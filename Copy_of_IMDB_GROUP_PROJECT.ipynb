{
  "nbformat": 4,
  "nbformat_minor": 0,
  "metadata": {
    "colab": {
      "name": "Copy of IMDB GROUP PROJECT",
      "provenance": [],
      "collapsed_sections": [],
      "include_colab_link": true
    },
    "kernelspec": {
      "name": "python3",
      "display_name": "Python 3"
    },
    "accelerator": "GPU"
  },
  "cells": [
    {
      "cell_type": "markdown",
      "metadata": {
        "id": "view-in-github",
        "colab_type": "text"
      },
      "source": [
        "<a href=\"https://colab.research.google.com/github/codybaraks/visuals-strictly/blob/master/Copy_of_IMDB_GROUP_PROJECT.ipynb\" target=\"_parent\"><img src=\"https://colab.research.google.com/assets/colab-badge.svg\" alt=\"Open In Colab\"/></a>"
      ]
    },
    {
      "cell_type": "markdown",
      "metadata": {
        "id": "9P7CRrUMEzhc",
        "colab_type": "text"
      },
      "source": [
        "# IMDB MOVIE REVIEWS SENTIMENTAL ANALYSIS USING TENSORFLOW\n",
        "\n"
      ]
    },
    {
      "cell_type": "markdown",
      "metadata": {
        "id": "SViuC_4CEzeG",
        "colab_type": "text"
      },
      "source": [
        "# 1.1 Introduction\n",
        "\n",
        "* Sentimental analysis is very useful in social media monitoring.\n",
        "* It helps companies extract insights from social media data.\n",
        "* For example, a company can gain an overview of wider public opinion about a particular topic.\n",
        "* In this project, we will work on sentimental anlysis of IMDB Movie Reviews.\n"
      ]
    },
    {
      "cell_type": "markdown",
      "metadata": {
        "id": "bLx16SzoEzb_",
        "colab_type": "text"
      },
      "source": [
        "## 1.1.1 Defining the Question\n",
        "\n",
        "* Classifying/Predicting whether a movie review is positive or negative."
      ]
    },
    {
      "cell_type": "markdown",
      "metadata": {
        "id": "9nzr_ezKEzYf",
        "colab_type": "text"
      },
      "source": [
        "## 1.1.2 Metrics for Success\n",
        "* Achieve an Accuracy score of about 90%."
      ]
    },
    {
      "cell_type": "markdown",
      "metadata": {
        "id": "Uq2sD8PhEzW0",
        "colab_type": "text"
      },
      "source": [
        "## 1.1.3 The Context\n",
        "\n",
        "* IMDB(Internet Movie Database):\n",
        "\n",
        "    * It is the world's most popular source of movie,Tv and celebrity content\n",
        "    \n",
        "    * Find rating and reviews for the latest movies and Tv shows \n",
        "\n",
        "  \n",
        "\n"
      ]
    },
    {
      "cell_type": "markdown",
      "metadata": {
        "id": "tbHHiW3yEzTL",
        "colab_type": "text"
      },
      "source": [
        "## 1.1.4 Experimental Design Taken\n",
        "\n",
        "* Loading the data\n",
        "* Data Cleaning\n",
        "* Perform Exploratory Data Analysis\n",
        "* Visualizations\n",
        "* "
      ]
    },
    {
      "cell_type": "markdown",
      "metadata": {
        "id": "SwXoGYAsEzRP",
        "colab_type": "text"
      },
      "source": [
        "## 1.1.5 Appropriateness of the Data\n",
        "\n",
        "* The dataset contains 50,000 movie reviews.\n",
        "* It was obtained from Kaggle.com.\n",
        "* Link to the data: [link text](https://www.kaggle.com/lakshmi25npathi/imdb-dataset-of-50k-movie-reviews)"
      ]
    },
    {
      "cell_type": "markdown",
      "metadata": {
        "id": "OZmJrjqQGws0",
        "colab_type": "text"
      },
      "source": [
        "# 1.2 Importing the Libraries"
      ]
    },
    {
      "cell_type": "code",
      "metadata": {
        "id": "jycbahkp4QDa",
        "colab_type": "code",
        "colab": {}
      },
      "source": [
        "# Importing Libraries we need for our analysis\n",
        "\n",
        "import pandas as pd\n",
        "import numpy as np\n",
        "from numpy import array,asarray,zeros\n",
        "\n",
        "# Embedding\n",
        "from keras.layers.embeddings import Embedding\n",
        "\n",
        "import matplotlib.pyplot as plt\n",
        "%matplotlib inline\n",
        "import seaborn as sns\n",
        "\n",
        "import nltk\n",
        "import re\n",
        "from nltk.corpus import stopwords\n",
        "from nltk.stem.porter import PorterStemmer\n",
        "from nltk.corpus import stopwords\n",
        "from nltk.stem import WordNetLemmatizer\n",
        "from nltk.tokenize import word_tokenize,sent_tokenize\n",
        "from bs4 import BeautifulSoup\n",
        "\n",
        "# import scikitplot as skplt\n",
        "from sklearn.model_selection import train_test_split\n",
        "from sklearn import preprocessing\n",
        "from sklearn.feature_extraction.text import CountVectorizer, TfidfVectorizer\n",
        "from sklearn.metrics import confusion_matrix,classification_report\n",
        "from sklearn.metrics import roc_curve,auc\n",
        "\n",
        "from keras.preprocessing.text import Tokenizer\n",
        "from keras.preprocessing.sequence import pad_sequences\n",
        "from keras import Sequential\n",
        "from keras.layers import Embedding,LSTM,Dense\n",
        "from keras.layers.convolutional import Conv2D, MaxPooling2D\n",
        "from keras.models import Sequential\n",
        "from keras.layers import Dense, Activation, Flatten\n",
        "\n",
        "\n",
        "import warnings\n",
        "warnings.filterwarnings('ignore')\n",
        "\n",
        "import tensorflow as tf\n",
        "\n",
        "import requests\n",
        "from io import StringIO\n",
        "# nltk\n",
        "import nltk"
      ],
      "execution_count": 0,
      "outputs": []
    },
    {
      "cell_type": "code",
      "metadata": {
        "id": "dnzx0HpdWwTm",
        "colab_type": "code",
        "colab": {}
      },
      "source": [
        "from plotnine import *\n"
      ],
      "execution_count": 0,
      "outputs": []
    },
    {
      "cell_type": "markdown",
      "metadata": {
        "id": "YdGgk35JQuyH",
        "colab_type": "text"
      },
      "source": [
        "# 1.3 Loading the dataset"
      ]
    },
    {
      "cell_type": "code",
      "metadata": {
        "id": "0cu-c5WHRe15",
        "colab_type": "code",
        "colab": {}
      },
      "source": [
        "# Creating a function to load the dataset from google drive\n",
        "\n",
        "def read_data(path):\n",
        "  path = 'https://drive.google.com/uc?export=download&id=' + path.split('/')[-2]\n",
        "  csv_raw = requests.get(path).text\n",
        "  csv = StringIO(csv_raw)\n",
        "  return csv"
      ],
      "execution_count": 0,
      "outputs": []
    },
    {
      "cell_type": "code",
      "metadata": {
        "id": "YNmONJWdEsxC",
        "colab_type": "code",
        "colab": {}
      },
      "source": [
        "# Loading the data using the function created \n",
        "\n",
        "movies = pd.read_csv(read_data('https://drive.google.com/file/d/1DAQYMCtnVU4n914iZA94FBhxypxjB61X/view?usp=sharing'))"
      ],
      "execution_count": 0,
      "outputs": []
    },
    {
      "cell_type": "markdown",
      "metadata": {
        "id": "8XVQ-IE5Yrkv",
        "colab_type": "text"
      },
      "source": [
        "# EXPLORATORY DATA ANALYSIS"
      ]
    },
    {
      "cell_type": "code",
      "metadata": {
        "id": "ErYNaOPWEsuA",
        "colab_type": "code",
        "outputId": "a391143d-a955-453d-9204-a29e8ebd0ad1",
        "colab": {
          "base_uri": "https://localhost:8080/",
          "height": 204
        }
      },
      "source": [
        "# Checking the first five observations from the dataset.\n",
        " \n",
        "movies.head()"
      ],
      "execution_count": 32,
      "outputs": [
        {
          "output_type": "execute_result",
          "data": {
            "text/html": [
              "<div>\n",
              "<style scoped>\n",
              "    .dataframe tbody tr th:only-of-type {\n",
              "        vertical-align: middle;\n",
              "    }\n",
              "\n",
              "    .dataframe tbody tr th {\n",
              "        vertical-align: top;\n",
              "    }\n",
              "\n",
              "    .dataframe thead th {\n",
              "        text-align: right;\n",
              "    }\n",
              "</style>\n",
              "<table border=\"1\" class=\"dataframe\">\n",
              "  <thead>\n",
              "    <tr style=\"text-align: right;\">\n",
              "      <th></th>\n",
              "      <th>review</th>\n",
              "      <th>sentiment</th>\n",
              "    </tr>\n",
              "  </thead>\n",
              "  <tbody>\n",
              "    <tr>\n",
              "      <th>0</th>\n",
              "      <td>One of the other reviewers has mentioned that ...</td>\n",
              "      <td>positive</td>\n",
              "    </tr>\n",
              "    <tr>\n",
              "      <th>1</th>\n",
              "      <td>A wonderful little production. &lt;br /&gt;&lt;br /&gt;The...</td>\n",
              "      <td>positive</td>\n",
              "    </tr>\n",
              "    <tr>\n",
              "      <th>2</th>\n",
              "      <td>I thought this was a wonderful way to spend ti...</td>\n",
              "      <td>positive</td>\n",
              "    </tr>\n",
              "    <tr>\n",
              "      <th>3</th>\n",
              "      <td>Basically there's a family where a little boy ...</td>\n",
              "      <td>negative</td>\n",
              "    </tr>\n",
              "    <tr>\n",
              "      <th>4</th>\n",
              "      <td>Petter Mattei's \"Love in the Time of Money\" is...</td>\n",
              "      <td>positive</td>\n",
              "    </tr>\n",
              "  </tbody>\n",
              "</table>\n",
              "</div>"
            ],
            "text/plain": [
              "                                              review sentiment\n",
              "0  One of the other reviewers has mentioned that ...  positive\n",
              "1  A wonderful little production. <br /><br />The...  positive\n",
              "2  I thought this was a wonderful way to spend ti...  positive\n",
              "3  Basically there's a family where a little boy ...  negative\n",
              "4  Petter Mattei's \"Love in the Time of Money\" is...  positive"
            ]
          },
          "metadata": {
            "tags": []
          },
          "execution_count": 32
        }
      ]
    },
    {
      "cell_type": "code",
      "metadata": {
        "id": "OhoLv3XiEsrQ",
        "colab_type": "code",
        "outputId": "90f0927a-c63c-42e2-ff7a-9d7f2645d0ff",
        "colab": {
          "base_uri": "https://localhost:8080/",
          "height": 204
        }
      },
      "source": [
        "# Checking the last first five observations of our dataset\n",
        "\n",
        "movies.tail()"
      ],
      "execution_count": 33,
      "outputs": [
        {
          "output_type": "execute_result",
          "data": {
            "text/html": [
              "<div>\n",
              "<style scoped>\n",
              "    .dataframe tbody tr th:only-of-type {\n",
              "        vertical-align: middle;\n",
              "    }\n",
              "\n",
              "    .dataframe tbody tr th {\n",
              "        vertical-align: top;\n",
              "    }\n",
              "\n",
              "    .dataframe thead th {\n",
              "        text-align: right;\n",
              "    }\n",
              "</style>\n",
              "<table border=\"1\" class=\"dataframe\">\n",
              "  <thead>\n",
              "    <tr style=\"text-align: right;\">\n",
              "      <th></th>\n",
              "      <th>review</th>\n",
              "      <th>sentiment</th>\n",
              "    </tr>\n",
              "  </thead>\n",
              "  <tbody>\n",
              "    <tr>\n",
              "      <th>49995</th>\n",
              "      <td>I thought this movie did a down right good job...</td>\n",
              "      <td>positive</td>\n",
              "    </tr>\n",
              "    <tr>\n",
              "      <th>49996</th>\n",
              "      <td>Bad plot, bad dialogue, bad acting, idiotic di...</td>\n",
              "      <td>negative</td>\n",
              "    </tr>\n",
              "    <tr>\n",
              "      <th>49997</th>\n",
              "      <td>I am a Catholic taught in parochial elementary...</td>\n",
              "      <td>negative</td>\n",
              "    </tr>\n",
              "    <tr>\n",
              "      <th>49998</th>\n",
              "      <td>I'm going to have to disagree with the previou...</td>\n",
              "      <td>negative</td>\n",
              "    </tr>\n",
              "    <tr>\n",
              "      <th>49999</th>\n",
              "      <td>No one expects the Star Trek movies to be high...</td>\n",
              "      <td>negative</td>\n",
              "    </tr>\n",
              "  </tbody>\n",
              "</table>\n",
              "</div>"
            ],
            "text/plain": [
              "                                                  review sentiment\n",
              "49995  I thought this movie did a down right good job...  positive\n",
              "49996  Bad plot, bad dialogue, bad acting, idiotic di...  negative\n",
              "49997  I am a Catholic taught in parochial elementary...  negative\n",
              "49998  I'm going to have to disagree with the previou...  negative\n",
              "49999  No one expects the Star Trek movies to be high...  negative"
            ]
          },
          "metadata": {
            "tags": []
          },
          "execution_count": 33
        }
      ]
    },
    {
      "cell_type": "code",
      "metadata": {
        "id": "xFuhYTeDEspM",
        "colab_type": "code",
        "outputId": "aefef9f9-f46a-4e56-926a-4fcf456e9947",
        "colab": {
          "base_uri": "https://localhost:8080/",
          "height": 34
        }
      },
      "source": [
        "# Checking the shape of the dataset\n",
        "\n",
        "movies.shape"
      ],
      "execution_count": 34,
      "outputs": [
        {
          "output_type": "execute_result",
          "data": {
            "text/plain": [
              "(50000, 2)"
            ]
          },
          "metadata": {
            "tags": []
          },
          "execution_count": 34
        }
      ]
    },
    {
      "cell_type": "markdown",
      "metadata": {
        "id": "q_Lzj1Y8XVu8",
        "colab_type": "text"
      },
      "source": [
        "There are 50,000 rows and 2 columns."
      ]
    },
    {
      "cell_type": "code",
      "metadata": {
        "id": "JTt5-USFosPn",
        "colab_type": "code",
        "colab": {}
      },
      "source": [
        ""
      ],
      "execution_count": 0,
      "outputs": []
    },
    {
      "cell_type": "code",
      "metadata": {
        "id": "i8GXUmV9EsmG",
        "colab_type": "code",
        "outputId": "3d17c133-455a-4ed5-a17e-13116b72966c",
        "colab": {
          "base_uri": "https://localhost:8080/",
          "height": 136
        }
      },
      "source": [
        "# Checking the dataset information\n",
        "movies.info()"
      ],
      "execution_count": 35,
      "outputs": [
        {
          "output_type": "stream",
          "text": [
            "<class 'pandas.core.frame.DataFrame'>\n",
            "RangeIndex: 50000 entries, 0 to 49999\n",
            "Data columns (total 2 columns):\n",
            "review       50000 non-null object\n",
            "sentiment    50000 non-null object\n",
            "dtypes: object(2)\n",
            "memory usage: 781.3+ KB\n"
          ],
          "name": "stdout"
        }
      ]
    },
    {
      "cell_type": "markdown",
      "metadata": {
        "id": "qWMdvHXGXqhZ",
        "colab_type": "text"
      },
      "source": [
        "* Both columns contain string data types.\n",
        "* The dataset has no missing values.\n"
      ]
    },
    {
      "cell_type": "code",
      "metadata": {
        "id": "reo9_yISEsg0",
        "colab_type": "code",
        "outputId": "f94d4e95-842b-4762-854d-a546d18490cb",
        "colab": {
          "base_uri": "https://localhost:8080/",
          "height": 68
        }
      },
      "source": [
        "# checking the frequency of positive and negative reviews\n",
        "\n",
        "movies.sentiment.value_counts()"
      ],
      "execution_count": 36,
      "outputs": [
        {
          "output_type": "execute_result",
          "data": {
            "text/plain": [
              "negative    25000\n",
              "positive    25000\n",
              "Name: sentiment, dtype: int64"
            ]
          },
          "metadata": {
            "tags": []
          },
          "execution_count": 36
        }
      ]
    },
    {
      "cell_type": "markdown",
      "metadata": {
        "id": "B1EZ1kYMYRac",
        "colab_type": "text"
      },
      "source": [
        "The dataset is balanced since we have equal number of positive and negative reviews."
      ]
    },
    {
      "cell_type": "code",
      "metadata": {
        "id": "1a2LWp7RNHU-",
        "colab_type": "code",
        "outputId": "34ccef84-fd6d-4479-85ad-4bce7d8d7945",
        "colab": {
          "base_uri": "https://localhost:8080/",
          "height": 297
        }
      },
      "source": [
        "# Visualization to indicate that the dataset is balanced\n",
        "sns.countplot(movies.sentiment)\n",
        "plt.xlabel('sentiment', color=\"brown\")\n",
        "plt.title('Positive vs Negative', fontsize=16, color='brown')\n",
        "plt.show()"
      ],
      "execution_count": 37,
      "outputs": [
        {
          "output_type": "display_data",
          "data": {
            "image/png": "[encoded data removed]",
            "text/plain": [
              "<Figure size 432x288 with 1 Axes>"
            ]
          },
          "metadata": {
            "tags": []
          }
        }
      ]
    },
    {
      "cell_type": "markdown",
      "metadata": {
        "id": "0MzU8NVPabSL",
        "colab_type": "text"
      },
      "source": [
        "# 1.4 Data Cleaning/ Preprocessing the Data\n",
        "\n"
      ]
    },
    {
      "cell_type": "code",
      "metadata": {
        "id": "V6y3QKEiaZU9",
        "colab_type": "code",
        "colab": {}
      },
      "source": [
        "# Here we create a function to clean the text data\n",
        "# we will use regular expressions here alot since our data dtype is string.\n",
        "\n",
        "def cleaning(data):\n",
        "  \n",
        "  # removing tags\n",
        "  phrase = remove_tags(data)\n",
        "  \n",
        "  # remove special characters i.e r\n",
        "  # remove anything thats not a to z or A-Z\n",
        "  \n",
        "  phrase = re.sub('[^a-zA-Z]', ' ', phrase)\n",
        "  \n",
        "  # remove multiple spaces\n",
        "  phrase = re.sub(r'\\s+', ' ',phrase)\n",
        "  \n",
        "  return phrase\n",
        "  \n"
      ],
      "execution_count": 0,
      "outputs": []
    },
    {
      "cell_type": "code",
      "metadata": {
        "id": "iKYL8IXiaZM7",
        "colab_type": "code",
        "colab": {}
      },
      "source": [
        "# This is to initialize the function to \n",
        "# remove the tags\n",
        "# earlier created in the previus function.\n",
        "\n",
        "\n",
        "TAG_RE = re.compile(r'<[^>]+>')\n",
        "\n",
        "\n",
        "def remove_tags(text):\n",
        "  return TAG_RE.sub('', text)"
      ],
      "execution_count": 0,
      "outputs": []
    },
    {
      "cell_type": "code",
      "metadata": {
        "id": "PrwtonI2aWMx",
        "colab_type": "code",
        "colab": {}
      },
      "source": [
        "X = []\n",
        "phrases = list(movies['review'])\n",
        "for data in phrases:\n",
        "  X.append(cleaning(data))"
      ],
      "execution_count": 0,
      "outputs": []
    },
    {
      "cell_type": "code",
      "metadata": {
        "id": "iQ8Jw_b50L84",
        "colab_type": "code",
        "outputId": "da08df57-841a-48cc-d3c7-367838179e96",
        "colab": {
          "base_uri": "https://localhost:8080/",
          "height": 105
        }
      },
      "source": [
        "# clean_real = movies.review.apply(lambda x: cleaning(x))\n",
        "X[0:4]"
      ],
      "execution_count": 78,
      "outputs": [
        {
          "output_type": "execute_result",
          "data": {
            "text/plain": [
              "['One of the other reviewers has mentioned that after watching just Oz episode you ll be hooked They are right as this is exactly what happened with me The first thing that struck me about Oz was its brutality and unflinching scenes of violence which set in right from the word GO Trust me this is not a show for the faint hearted or timid This show pulls no punches with regards to drugs sex or violence Its is hardcore in the classic use of the word It is called OZ as that is the nickname given to the Oswald Maximum Security State Penitentary It focuses mainly on Emerald City an experimental section of the prison where all the cells have glass fronts and face inwards so privacy is not high on the agenda Em City is home to many Aryans Muslims gangstas Latinos Christians Italians Irish and more so scuffles death stares dodgy dealings and shady agreements are never far away I would say the main appeal of the show is due to the fact that it goes where other shows wouldn t dare Forget pretty pictures painted for mainstream audiences forget charm forget romance OZ doesn t mess around The first episode I ever saw struck me as so nasty it was surreal I couldn t say I was ready for it but as I watched more I developed a taste for Oz and got accustomed to the high levels of graphic violence Not just violence but injustice crooked guards who ll be sold out for a nickel inmates who ll kill on order and get away with it well mannered middle class inmates being turned into prison bitches due to their lack of street skills or prison experience Watching Oz you may become comfortable with what is uncomfortable viewing thats if you can get in touch with your darker side ',\n",
              " 'A wonderful little production The filming technique is very unassuming very old time BBC fashion and gives a comforting and sometimes discomforting sense of realism to the entire piece The actors are extremely well chosen Michael Sheen not only has got all the polari but he has all the voices down pat too You can truly see the seamless editing guided by the references to Williams diary entries not only is it well worth the watching but it is a terrificly written and performed piece A masterful production about one of the great master s of comedy and his life The realism really comes home with the little things the fantasy of the guard which rather than use the traditional dream techniques remains solid then disappears It plays on our knowledge and our senses particularly with the scenes concerning Orton and Halliwell and the sets particularly of their flat with Halliwell s murals decorating every surface are terribly well done ',\n",
              " 'I thought this was a wonderful way to spend time on a too hot summer weekend sitting in the air conditioned theater and watching a light hearted comedy The plot is simplistic but the dialogue is witty and the characters are likable even the well bread suspected serial killer While some may be disappointed when they realize this is not Match Point Risk Addiction I thought it was proof that Woody Allen is still fully in control of the style many of us have grown to love This was the most I d laughed at one of Woody s comedies in years dare I say a decade While I ve never been impressed with Scarlet Johanson in this she managed to tone down her sexy image and jumped right into a average but spirited young woman This may not be the crown jewel of his career but it was wittier than Devil Wears Prada and more interesting than Superman a great comedy to go see with friends ',\n",
              " 'Basically there s a family where a little boy Jake thinks there s a zombie in his closet his parents are fighting all the time This movie is slower than a soap opera and suddenly Jake decides to become Rambo and kill the zombie OK first of all when you re going to make a film you must Decide if its a thriller or a drama As a drama the movie is watchable Parents are divorcing arguing like in real life And then we have Jake with his closet which totally ruins all the film I expected to see a BOOGEYMAN similar movie and instead i watched a drama with some meaningless thriller spots out of just for the well playing parents descent dialogs As for the shots with Jake just ignore them ']"
            ]
          },
          "metadata": {
            "tags": []
          },
          "execution_count": 78
        }
      ]
    },
    {
      "cell_type": "markdown",
      "metadata": {
        "id": "Il41zqcdaoP3",
        "colab_type": "text"
      },
      "source": [
        "### **The above text shows that special characters have been removed**"
      ]
    },
    {
      "cell_type": "code",
      "metadata": {
        "id": "rASg_fkVDnL9",
        "colab_type": "code",
        "colab": {
          "base_uri": "https://localhost:8080/",
          "height": 111
        },
        "outputId": "b2961029-9578-4ab2-a71b-4fefef8ea5b2"
      },
      "source": [
        "movies.head(2)"
      ],
      "execution_count": 79,
      "outputs": [
        {
          "output_type": "execute_result",
          "data": {
            "text/html": [
              "<div>\n",
              "<style scoped>\n",
              "    .dataframe tbody tr th:only-of-type {\n",
              "        vertical-align: middle;\n",
              "    }\n",
              "\n",
              "    .dataframe tbody tr th {\n",
              "        vertical-align: top;\n",
              "    }\n",
              "\n",
              "    .dataframe thead th {\n",
              "        text-align: right;\n",
              "    }\n",
              "</style>\n",
              "<table border=\"1\" class=\"dataframe\">\n",
              "  <thead>\n",
              "    <tr style=\"text-align: right;\">\n",
              "      <th></th>\n",
              "      <th>review</th>\n",
              "      <th>sentiment</th>\n",
              "    </tr>\n",
              "  </thead>\n",
              "  <tbody>\n",
              "    <tr>\n",
              "      <th>0</th>\n",
              "      <td>One of the other reviewers has mentioned that ...</td>\n",
              "      <td>positive</td>\n",
              "    </tr>\n",
              "    <tr>\n",
              "      <th>1</th>\n",
              "      <td>A wonderful little production. &lt;br /&gt;&lt;br /&gt;The...</td>\n",
              "      <td>positive</td>\n",
              "    </tr>\n",
              "  </tbody>\n",
              "</table>\n",
              "</div>"
            ],
            "text/plain": [
              "                                              review sentiment\n",
              "0  One of the other reviewers has mentioned that ...  positive\n",
              "1  A wonderful little production. <br /><br />The...  positive"
            ]
          },
          "metadata": {
            "tags": []
          },
          "execution_count": 79
        }
      ]
    },
    {
      "cell_type": "code",
      "metadata": {
        "id": "Z0Ud9S_YNKuY",
        "colab_type": "code",
        "colab": {}
      },
      "source": [
        "phrases = list(movies['review'])"
      ],
      "execution_count": 0,
      "outputs": []
    },
    {
      "cell_type": "code",
      "metadata": {
        "id": "VF7Um7gmaZH-",
        "colab_type": "code",
        "colab": {
          "base_uri": "https://localhost:8080/",
          "height": 54
        },
        "outputId": "fcec0feb-7bbd-485c-9a46-e3a5051ea7b0"
      },
      "source": [
        " # checking the 21st review we get the result below\n",
        "X[10000]"
      ],
      "execution_count": 80,
      "outputs": [
        {
          "output_type": "execute_result",
          "data": {
            "text/plain": [
              "' While sporadically engrossing including a few effectively tender moments and humorous the sledgehammer obvious satire Homecoming hinges on comes off as forced and ultimately unfulfilling With material like this timing is everything Michael Moore knew to release Fahrenheit before the elections and the real tragedy of Dante s film is that it didn t come out years ago when its message would have carried an energy that would have energized the dissidents further In mockery of the well settled Bush Administration hardly seems as controversially compelling or imperiled as it did then frankly anyone that could be convinced of anything by a ham fisted zombie flick has questionable intelligence and if you didn t notice michael moore didn t exactly help to defeat bush there was nothing engrossing about this film i just felt disgust at how blatant and frankly stupid the film was it was painful to watch if you are going to do something like this you need a bit of wit sadly this has none a poorly done satire actually has the opposite of its intended effect as they say with friends like these who needs enemies '"
            ]
          },
          "metadata": {
            "tags": []
          },
          "execution_count": 80
        }
      ]
    },
    {
      "cell_type": "markdown",
      "metadata": {
        "id": "WYdicfqBxOj3",
        "colab_type": "text"
      },
      "source": [
        "## **TSNE**"
      ]
    },
    {
      "cell_type": "markdown",
      "metadata": {
        "id": "3_-en4Uyxh6Q",
        "colab_type": "text"
      },
      "source": [
        "**Making use of TSNE which maps objects with similarity**"
      ]
    },
    {
      "cell_type": "code",
      "metadata": {
        "id": "q_LsNXIyyTdW",
        "colab_type": "code",
        "colab": {}
      },
      "source": [
        "from sklearn.manifold import TSNE\n",
        "from gensim.models import word2vec"
      ],
      "execution_count": 0,
      "outputs": []
    },
    {
      "cell_type": "code",
      "metadata": {
        "id": "4RVOn5pt3u3Z",
        "colab_type": "code",
        "colab": {}
      },
      "source": [
        "import pandas as pd\n",
        "pd.options.mode.chained_assignment = None \n",
        "import numpy as np\n",
        "import re\n",
        "import nltk\n",
        "\n",
        "from gensim.models import word2vec\n",
        "\n",
        "from sklearn.manifold import TSNE\n",
        "import matplotlib.pyplot as plt\n",
        "%matplotlib inline"
      ],
      "execution_count": 0,
      "outputs": []
    },
    {
      "cell_type": "code",
      "metadata": {
        "id": "e2TkzJGa4Pxw",
        "colab_type": "code",
        "colab": {
          "base_uri": "https://localhost:8080/",
          "height": 408
        },
        "outputId": "3c059467-d830-4b26-b3e3-c6ae2a2389ca"
      },
      "source": [
        "import nltk\n",
        "nltk.download()"
      ],
      "execution_count": 102,
      "outputs": [
        {
          "output_type": "stream",
          "text": [
            "NLTK Downloader\n",
            "---------------------------------------------------------------------------\n",
            "    d) Download   l) List    u) Update   c) Config   h) Help   q) Quit\n",
            "---------------------------------------------------------------------------\n",
            "Downloader> d\n",
            "\n",
            "Download which package (l=list; x=cancel)?\n",
            "  Identifier> stopwords\n",
            "    Downloading package stopwords to /root/nltk_data...\n",
            "      Package stopwords is already up-to-date!\n",
            "\n",
            "---------------------------------------------------------------------------\n",
            "    d) Download   l) List    u) Update   c) Config   h) Help   q) Quit\n",
            "---------------------------------------------------------------------------\n",
            "Downloader> u\n",
            "\n",
            "Nothing to update.\n",
            "\n",
            "---------------------------------------------------------------------------\n",
            "    d) Download   l) List    u) Update   c) Config   h) Help   q) Quit\n",
            "---------------------------------------------------------------------------\n",
            "Downloader> q\n"
          ],
          "name": "stdout"
        },
        {
          "output_type": "execute_result",
          "data": {
            "text/plain": [
              "True"
            ]
          },
          "metadata": {
            "tags": []
          },
          "execution_count": 102
        }
      ]
    },
    {
      "cell_type": "code",
      "metadata": {
        "id": "Xw1KRaRB5BGQ",
        "colab_type": "code",
        "colab": {
          "base_uri": "https://localhost:8080/",
          "height": 68
        },
        "outputId": "a81fcd32-4664-4690-afed-7c5aa20d88c4"
      },
      "source": [
        "nltk.download(\"stopwords\")"
      ],
      "execution_count": 103,
      "outputs": [
        {
          "output_type": "stream",
          "text": [
            "[nltk_data] Downloading package stopwords to /root/nltk_data...\n",
            "[nltk_data]   Package stopwords is already up-to-date!\n"
          ],
          "name": "stdout"
        },
        {
          "output_type": "execute_result",
          "data": {
            "text/plain": [
              "True"
            ]
          },
          "metadata": {
            "tags": []
          },
          "execution_count": 103
        }
      ]
    },
    {
      "cell_type": "code",
      "metadata": {
        "id": "osfzXQcD3fkL",
        "colab_type": "code",
        "colab": {}
      },
      "source": [
        "stop_words = nltk.corpus.stopwords.words()\n",
        "\n",
        "def clean_sentence(val):\n",
        "    \"remove chars that are not letters or numbers, downcase, then remove stop words\"\n",
        "    regex = re.compile('([^\\s\\w]|_)+')\n",
        "    sentence = regex.sub('', val).lower()\n",
        "    sentence = sentence.split(\" \")\n",
        "    \n",
        "    for word in list(sentence):\n",
        "        if word in stop_words:\n",
        "            sentence.remove(word)  \n",
        "            \n",
        "    sentence = \" \".join(sentence)\n",
        "    return sentence\n",
        "  \n",
        "\n",
        " "
      ],
      "execution_count": 0,
      "outputs": []
    },
    {
      "cell_type": "code",
      "metadata": {
        "id": "x_Td7l05Ma7O",
        "colab_type": "code",
        "colab": {}
      },
      "source": [
        "movies.review = movies.review.apply(lambda x: clean_sentence(x))\n",
        "movies.review"
      ],
      "execution_count": 0,
      "outputs": []
    },
    {
      "cell_type": "code",
      "metadata": {
        "id": "NU31be5KzXUt",
        "colab_type": "code",
        "colab": {
          "base_uri": "https://localhost:8080/",
          "height": 1000
        },
        "outputId": "de9556e7-d5d6-466f-cd99-2c7fc3451d6a"
      },
      "source": [
        "# Corpus - still tring to find out but strength of words\n",
        "#  strength of words,\n",
        "def build_corpus(data):\n",
        "    \"Creates a list of lists containing words from each sentence\"\n",
        "    corpus = []\n",
        "    for col in ['review']:\n",
        "        for sentence in movies[col].iteritems():\n",
        "            word_list = sentence[1].split(\" \")\n",
        "            corpus.append(word_list)\n",
        "            \n",
        "    return corpus\n",
        "  \n",
        "corpus = build_corpus(data)        \n",
        "corpus[0:2]"
      ],
      "execution_count": 87,
      "outputs": [
        {
          "output_type": "execute_result",
          "data": {
            "text/plain": [
              "[['One',\n",
              "  'of',\n",
              "  'the',\n",
              "  'other',\n",
              "  'reviewers',\n",
              "  'has',\n",
              "  'mentioned',\n",
              "  'that',\n",
              "  'after',\n",
              "  'watching',\n",
              "  'just',\n",
              "  '1',\n",
              "  'Oz',\n",
              "  'episode',\n",
              "  \"you'll\",\n",
              "  'be',\n",
              "  'hooked.',\n",
              "  'They',\n",
              "  'are',\n",
              "  'right,',\n",
              "  'as',\n",
              "  'this',\n",
              "  'is',\n",
              "  'exactly',\n",
              "  'what',\n",
              "  'happened',\n",
              "  'with',\n",
              "  'me.<br',\n",
              "  '/><br',\n",
              "  '/>The',\n",
              "  'first',\n",
              "  'thing',\n",
              "  'that',\n",
              "  'struck',\n",
              "  'me',\n",
              "  'about',\n",
              "  'Oz',\n",
              "  'was',\n",
              "  'its',\n",
              "  'brutality',\n",
              "  'and',\n",
              "  'unflinching',\n",
              "  'scenes',\n",
              "  'of',\n",
              "  'violence,',\n",
              "  'which',\n",
              "  'set',\n",
              "  'in',\n",
              "  'right',\n",
              "  'from',\n",
              "  'the',\n",
              "  'word',\n",
              "  'GO.',\n",
              "  'Trust',\n",
              "  'me,',\n",
              "  'this',\n",
              "  'is',\n",
              "  'not',\n",
              "  'a',\n",
              "  'show',\n",
              "  'for',\n",
              "  'the',\n",
              "  'faint',\n",
              "  'hearted',\n",
              "  'or',\n",
              "  'timid.',\n",
              "  'This',\n",
              "  'show',\n",
              "  'pulls',\n",
              "  'no',\n",
              "  'punches',\n",
              "  'with',\n",
              "  'regards',\n",
              "  'to',\n",
              "  'drugs,',\n",
              "  'sex',\n",
              "  'or',\n",
              "  'violence.',\n",
              "  'Its',\n",
              "  'is',\n",
              "  'hardcore,',\n",
              "  'in',\n",
              "  'the',\n",
              "  'classic',\n",
              "  'use',\n",
              "  'of',\n",
              "  'the',\n",
              "  'word.<br',\n",
              "  '/><br',\n",
              "  '/>It',\n",
              "  'is',\n",
              "  'called',\n",
              "  'OZ',\n",
              "  'as',\n",
              "  'that',\n",
              "  'is',\n",
              "  'the',\n",
              "  'nickname',\n",
              "  'given',\n",
              "  'to',\n",
              "  'the',\n",
              "  'Oswald',\n",
              "  'Maximum',\n",
              "  'Security',\n",
              "  'State',\n",
              "  'Penitentary.',\n",
              "  'It',\n",
              "  'focuses',\n",
              "  'mainly',\n",
              "  'on',\n",
              "  'Emerald',\n",
              "  'City,',\n",
              "  'an',\n",
              "  'experimental',\n",
              "  'section',\n",
              "  'of',\n",
              "  'the',\n",
              "  'prison',\n",
              "  'where',\n",
              "  'all',\n",
              "  'the',\n",
              "  'cells',\n",
              "  'have',\n",
              "  'glass',\n",
              "  'fronts',\n",
              "  'and',\n",
              "  'face',\n",
              "  'inwards,',\n",
              "  'so',\n",
              "  'privacy',\n",
              "  'is',\n",
              "  'not',\n",
              "  'high',\n",
              "  'on',\n",
              "  'the',\n",
              "  'agenda.',\n",
              "  'Em',\n",
              "  'City',\n",
              "  'is',\n",
              "  'home',\n",
              "  'to',\n",
              "  'many..Aryans,',\n",
              "  'Muslims,',\n",
              "  'gangstas,',\n",
              "  'Latinos,',\n",
              "  'Christians,',\n",
              "  'Italians,',\n",
              "  'Irish',\n",
              "  'and',\n",
              "  'more....so',\n",
              "  'scuffles,',\n",
              "  'death',\n",
              "  'stares,',\n",
              "  'dodgy',\n",
              "  'dealings',\n",
              "  'and',\n",
              "  'shady',\n",
              "  'agreements',\n",
              "  'are',\n",
              "  'never',\n",
              "  'far',\n",
              "  'away.<br',\n",
              "  '/><br',\n",
              "  '/>I',\n",
              "  'would',\n",
              "  'say',\n",
              "  'the',\n",
              "  'main',\n",
              "  'appeal',\n",
              "  'of',\n",
              "  'the',\n",
              "  'show',\n",
              "  'is',\n",
              "  'due',\n",
              "  'to',\n",
              "  'the',\n",
              "  'fact',\n",
              "  'that',\n",
              "  'it',\n",
              "  'goes',\n",
              "  'where',\n",
              "  'other',\n",
              "  'shows',\n",
              "  \"wouldn't\",\n",
              "  'dare.',\n",
              "  'Forget',\n",
              "  'pretty',\n",
              "  'pictures',\n",
              "  'painted',\n",
              "  'for',\n",
              "  'mainstream',\n",
              "  'audiences,',\n",
              "  'forget',\n",
              "  'charm,',\n",
              "  'forget',\n",
              "  'romance...OZ',\n",
              "  \"doesn't\",\n",
              "  'mess',\n",
              "  'around.',\n",
              "  'The',\n",
              "  'first',\n",
              "  'episode',\n",
              "  'I',\n",
              "  'ever',\n",
              "  'saw',\n",
              "  'struck',\n",
              "  'me',\n",
              "  'as',\n",
              "  'so',\n",
              "  'nasty',\n",
              "  'it',\n",
              "  'was',\n",
              "  'surreal,',\n",
              "  'I',\n",
              "  \"couldn't\",\n",
              "  'say',\n",
              "  'I',\n",
              "  'was',\n",
              "  'ready',\n",
              "  'for',\n",
              "  'it,',\n",
              "  'but',\n",
              "  'as',\n",
              "  'I',\n",
              "  'watched',\n",
              "  'more,',\n",
              "  'I',\n",
              "  'developed',\n",
              "  'a',\n",
              "  'taste',\n",
              "  'for',\n",
              "  'Oz,',\n",
              "  'and',\n",
              "  'got',\n",
              "  'accustomed',\n",
              "  'to',\n",
              "  'the',\n",
              "  'high',\n",
              "  'levels',\n",
              "  'of',\n",
              "  'graphic',\n",
              "  'violence.',\n",
              "  'Not',\n",
              "  'just',\n",
              "  'violence,',\n",
              "  'but',\n",
              "  'injustice',\n",
              "  '(crooked',\n",
              "  'guards',\n",
              "  \"who'll\",\n",
              "  'be',\n",
              "  'sold',\n",
              "  'out',\n",
              "  'for',\n",
              "  'a',\n",
              "  'nickel,',\n",
              "  'inmates',\n",
              "  \"who'll\",\n",
              "  'kill',\n",
              "  'on',\n",
              "  'order',\n",
              "  'and',\n",
              "  'get',\n",
              "  'away',\n",
              "  'with',\n",
              "  'it,',\n",
              "  'well',\n",
              "  'mannered,',\n",
              "  'middle',\n",
              "  'class',\n",
              "  'inmates',\n",
              "  'being',\n",
              "  'turned',\n",
              "  'into',\n",
              "  'prison',\n",
              "  'bitches',\n",
              "  'due',\n",
              "  'to',\n",
              "  'their',\n",
              "  'lack',\n",
              "  'of',\n",
              "  'street',\n",
              "  'skills',\n",
              "  'or',\n",
              "  'prison',\n",
              "  'experience)',\n",
              "  'Watching',\n",
              "  'Oz,',\n",
              "  'you',\n",
              "  'may',\n",
              "  'become',\n",
              "  'comfortable',\n",
              "  'with',\n",
              "  'what',\n",
              "  'is',\n",
              "  'uncomfortable',\n",
              "  'viewing....thats',\n",
              "  'if',\n",
              "  'you',\n",
              "  'can',\n",
              "  'get',\n",
              "  'in',\n",
              "  'touch',\n",
              "  'with',\n",
              "  'your',\n",
              "  'darker',\n",
              "  'side.'],\n",
              " ['A',\n",
              "  'wonderful',\n",
              "  'little',\n",
              "  'production.',\n",
              "  '<br',\n",
              "  '/><br',\n",
              "  '/>The',\n",
              "  'filming',\n",
              "  'technique',\n",
              "  'is',\n",
              "  'very',\n",
              "  'unassuming-',\n",
              "  'very',\n",
              "  'old-time-BBC',\n",
              "  'fashion',\n",
              "  'and',\n",
              "  'gives',\n",
              "  'a',\n",
              "  'comforting,',\n",
              "  'and',\n",
              "  'sometimes',\n",
              "  'discomforting,',\n",
              "  'sense',\n",
              "  'of',\n",
              "  'realism',\n",
              "  'to',\n",
              "  'the',\n",
              "  'entire',\n",
              "  'piece.',\n",
              "  '<br',\n",
              "  '/><br',\n",
              "  '/>The',\n",
              "  'actors',\n",
              "  'are',\n",
              "  'extremely',\n",
              "  'well',\n",
              "  'chosen-',\n",
              "  'Michael',\n",
              "  'Sheen',\n",
              "  'not',\n",
              "  'only',\n",
              "  '\"has',\n",
              "  'got',\n",
              "  'all',\n",
              "  'the',\n",
              "  'polari\"',\n",
              "  'but',\n",
              "  'he',\n",
              "  'has',\n",
              "  'all',\n",
              "  'the',\n",
              "  'voices',\n",
              "  'down',\n",
              "  'pat',\n",
              "  'too!',\n",
              "  'You',\n",
              "  'can',\n",
              "  'truly',\n",
              "  'see',\n",
              "  'the',\n",
              "  'seamless',\n",
              "  'editing',\n",
              "  'guided',\n",
              "  'by',\n",
              "  'the',\n",
              "  'references',\n",
              "  'to',\n",
              "  \"Williams'\",\n",
              "  'diary',\n",
              "  'entries,',\n",
              "  'not',\n",
              "  'only',\n",
              "  'is',\n",
              "  'it',\n",
              "  'well',\n",
              "  'worth',\n",
              "  'the',\n",
              "  'watching',\n",
              "  'but',\n",
              "  'it',\n",
              "  'is',\n",
              "  'a',\n",
              "  'terrificly',\n",
              "  'written',\n",
              "  'and',\n",
              "  'performed',\n",
              "  'piece.',\n",
              "  'A',\n",
              "  'masterful',\n",
              "  'production',\n",
              "  'about',\n",
              "  'one',\n",
              "  'of',\n",
              "  'the',\n",
              "  'great',\n",
              "  \"master's\",\n",
              "  'of',\n",
              "  'comedy',\n",
              "  'and',\n",
              "  'his',\n",
              "  'life.',\n",
              "  '<br',\n",
              "  '/><br',\n",
              "  '/>The',\n",
              "  'realism',\n",
              "  'really',\n",
              "  'comes',\n",
              "  'home',\n",
              "  'with',\n",
              "  'the',\n",
              "  'little',\n",
              "  'things:',\n",
              "  'the',\n",
              "  'fantasy',\n",
              "  'of',\n",
              "  'the',\n",
              "  'guard',\n",
              "  'which,',\n",
              "  'rather',\n",
              "  'than',\n",
              "  'use',\n",
              "  'the',\n",
              "  'traditional',\n",
              "  \"'dream'\",\n",
              "  'techniques',\n",
              "  'remains',\n",
              "  'solid',\n",
              "  'then',\n",
              "  'disappears.',\n",
              "  'It',\n",
              "  'plays',\n",
              "  'on',\n",
              "  'our',\n",
              "  'knowledge',\n",
              "  'and',\n",
              "  'our',\n",
              "  'senses,',\n",
              "  'particularly',\n",
              "  'with',\n",
              "  'the',\n",
              "  'scenes',\n",
              "  'concerning',\n",
              "  'Orton',\n",
              "  'and',\n",
              "  'Halliwell',\n",
              "  'and',\n",
              "  'the',\n",
              "  'sets',\n",
              "  '(particularly',\n",
              "  'of',\n",
              "  'their',\n",
              "  'flat',\n",
              "  'with',\n",
              "  \"Halliwell's\",\n",
              "  'murals',\n",
              "  'decorating',\n",
              "  'every',\n",
              "  'surface)',\n",
              "  'are',\n",
              "  'terribly',\n",
              "  'well',\n",
              "  'done.']]"
            ]
          },
          "metadata": {
            "tags": []
          },
          "execution_count": 87
        }
      ]
    },
    {
      "cell_type": "code",
      "metadata": {
        "id": "Kd9DNBBFHBEU",
        "colab_type": "code",
        "colab": {}
      },
      "source": [
        "corpus = movies.review.apply(lambda x: build_corpus(x))\n",
        "corpus"
      ],
      "execution_count": 0,
      "outputs": []
    },
    {
      "cell_type": "code",
      "metadata": {
        "id": "7kd9QY9z0O_x",
        "colab_type": "code",
        "colab": {}
      },
      "source": [
        "\n",
        "# corpus = build_corpus(data)        \n",
        "# corpus"
      ],
      "execution_count": 0,
      "outputs": []
    },
    {
      "cell_type": "code",
      "metadata": {
        "id": "zmywnUxNxb0i",
        "colab_type": "code",
        "colab": {}
      },
      "source": [
        "# Word2Vec: Feed forward neural network based model to find word embeddings\n",
        "# word to vector\n",
        "# model = word2vec.Word2Vec(corpus, size=100, window=20, min_count=100, workers=4)\n",
        "# model.wv['great']"
      ],
      "execution_count": 0,
      "outputs": []
    },
    {
      "cell_type": "code",
      "metadata": {
        "id": "7NVldGsn6UvH",
        "colab_type": "code",
        "colab": {}
      },
      "source": [
        "def tsne_plot(model):\n",
        "    \"Creates and TSNE model and plots it\"\n",
        "    labels = []\n",
        "    tokens = []\n",
        "\n",
        "    for word in model.wv.vocab:\n",
        "        tokens.append(model[word])\n",
        "        labels.append(word)\n",
        "    \n",
        "    tsne_model = TSNE(perplexity=40, n_components=2, init='pca', n_iter=2500, random_state=23)\n",
        "    new_values = tsne_model.fit_transform(tokens)\n",
        "\n",
        "    x = []\n",
        "    y = []\n",
        "    for value in new_values:\n",
        "        x.append(value[0])\n",
        "        y.append(value[1])\n",
        "        \n",
        "    plt.figure(figsize=(16, 16)) \n",
        "    for i in range(len(x)):\n",
        "        plt.scatter(x[i],y[i])\n",
        "        plt.annotate(labels[i],\n",
        "                     xy=(x[i], y[i]),\n",
        "                     xytext=(5, 2),\n",
        "                     textcoords='offset points',\n",
        "                     ha='right',\n",
        "                     va='bottom')\n",
        "    plt.show()"
      ],
      "execution_count": 0,
      "outputs": []
    },
    {
      "cell_type": "code",
      "metadata": {
        "id": "qVxE5fIJ6W1u",
        "colab_type": "code",
        "colab": {
          "base_uri": "https://localhost:8080/",
          "height": 921
        },
        "outputId": "304ceb4d-d841-4d41-c1e1-f04a46a504ad"
      },
      "source": [
        "model = word2vec.Word2Vec(corpus, size=20, window=20, min_count=4000, workers=4)\n",
        "\n",
        "tsne_plot(model)\n",
        "  "
      ],
      "execution_count": 89,
      "outputs": [
        {
          "output_type": "display_data",
          "data": {
            "image/png": "[encoded data removed]",
            "text/plain": [
              "<Figure size 1152x1152 with 1 Axes>"
            ]
          },
          "metadata": {
            "tags": []
          }
        }
      ]
    },
    {
      "cell_type": "markdown",
      "metadata": {
        "id": "CHweOllxefk2",
        "colab_type": "text"
      },
      "source": [
        "### **If you have two words that have very similar neighbors (meaning: the context in which its used is about the same), then these words are probably quite similar in meaning or are at least related**"
      ]
    },
    {
      "cell_type": "markdown",
      "metadata": {
        "id": "Q8Jbhm01aYvX",
        "colab_type": "text"
      },
      "source": [
        "## **Creating word Clouds**"
      ]
    },
    {
      "cell_type": "code",
      "metadata": {
        "id": "U9U8nReOfe77",
        "colab_type": "code",
        "colab": {}
      },
      "source": [
        "stop = set(stopwords.words('english'))"
      ],
      "execution_count": 0,
      "outputs": []
    },
    {
      "cell_type": "code",
      "metadata": {
        "id": "sMbkxsqMlCOv",
        "colab_type": "code",
        "colab": {}
      },
      "source": [
        "from PIL import Image\n",
        "from wordcloud import WordCloud,ImageColorGenerator, STOPWORDS"
      ],
      "execution_count": 0,
      "outputs": []
    },
    {
      "cell_type": "code",
      "metadata": {
        "id": "byGlxpuKbALi",
        "colab_type": "code",
        "colab": {
          "base_uri": "https://localhost:8080/",
          "height": 111
        },
        "outputId": "05586c1d-6785-46f9-8405-ad1002977b53"
      },
      "source": [
        "movies.head(2)"
      ],
      "execution_count": 91,
      "outputs": [
        {
          "output_type": "execute_result",
          "data": {
            "text/html": [
              "<div>\n",
              "<style scoped>\n",
              "    .dataframe tbody tr th:only-of-type {\n",
              "        vertical-align: middle;\n",
              "    }\n",
              "\n",
              "    .dataframe tbody tr th {\n",
              "        vertical-align: top;\n",
              "    }\n",
              "\n",
              "    .dataframe thead th {\n",
              "        text-align: right;\n",
              "    }\n",
              "</style>\n",
              "<table border=\"1\" class=\"dataframe\">\n",
              "  <thead>\n",
              "    <tr style=\"text-align: right;\">\n",
              "      <th></th>\n",
              "      <th>review</th>\n",
              "      <th>sentiment</th>\n",
              "    </tr>\n",
              "  </thead>\n",
              "  <tbody>\n",
              "    <tr>\n",
              "      <th>0</th>\n",
              "      <td>One of the other reviewers has mentioned that ...</td>\n",
              "      <td>positive</td>\n",
              "    </tr>\n",
              "    <tr>\n",
              "      <th>1</th>\n",
              "      <td>A wonderful little production. &lt;br /&gt;&lt;br /&gt;The...</td>\n",
              "      <td>positive</td>\n",
              "    </tr>\n",
              "  </tbody>\n",
              "</table>\n",
              "</div>"
            ],
            "text/plain": [
              "                                              review sentiment\n",
              "0  One of the other reviewers has mentioned that ...  positive\n",
              "1  A wonderful little production. <br /><br />The...  positive"
            ]
          },
          "metadata": {
            "tags": []
          },
          "execution_count": 91
        }
      ]
    },
    {
      "cell_type": "code",
      "metadata": {
        "id": "O4i5q8H4iYFm",
        "colab_type": "code",
        "colab": {
          "base_uri": "https://localhost:8080/",
          "height": 34
        },
        "outputId": "f2febd31-0cb2-48b7-ea5a-93ccaa21b568"
      },
      "source": [
        "# Positive  Reviews\n",
        "positive = movies[movies['sentiment'] == 'positive']\n",
        "positive.sentiment.unique()"
      ],
      "execution_count": 92,
      "outputs": [
        {
          "output_type": "execute_result",
          "data": {
            "text/plain": [
              "array(['positive'], dtype=object)"
            ]
          },
          "metadata": {
            "tags": []
          },
          "execution_count": 92
        }
      ]
    },
    {
      "cell_type": "code",
      "metadata": {
        "id": "VGnIUwzUi-be",
        "colab_type": "code",
        "colab": {
          "base_uri": "https://localhost:8080/",
          "height": 34
        },
        "outputId": "0280cd34-23b5-4369-a553-f89c42c833a9"
      },
      "source": [
        "# Number of positive reviews we have\n",
        "print('There are ' + str(positive.shape[0]) + ' positive reviews')"
      ],
      "execution_count": 93,
      "outputs": [
        {
          "output_type": "stream",
          "text": [
            "There are 25000 positive reviews\n"
          ],
          "name": "stdout"
        }
      ]
    },
    {
      "cell_type": "code",
      "metadata": {
        "id": "kV-4lom1jI8d",
        "colab_type": "code",
        "colab": {
          "base_uri": "https://localhost:8080/",
          "height": 34
        },
        "outputId": "06ab4e69-ae28-45ec-df25-aff9e8d3fadc"
      },
      "source": [
        "# Negative Reviews\n",
        "negative = movies[movies['sentiment'] == 'negative']\n",
        "negative.sentiment.unique()"
      ],
      "execution_count": 94,
      "outputs": [
        {
          "output_type": "execute_result",
          "data": {
            "text/plain": [
              "array(['negative'], dtype=object)"
            ]
          },
          "metadata": {
            "tags": []
          },
          "execution_count": 94
        }
      ]
    },
    {
      "cell_type": "code",
      "metadata": {
        "id": "-06kmdpTjbof",
        "colab_type": "code",
        "colab": {
          "base_uri": "https://localhost:8080/",
          "height": 34
        },
        "outputId": "1b2ed64d-10d4-4344-e41b-5af788befb94"
      },
      "source": [
        "# Number of negative reviews we have\n",
        "print('There are ' + str(negative.shape[0]) + ' negative reviews')"
      ],
      "execution_count": 95,
      "outputs": [
        {
          "output_type": "stream",
          "text": [
            "There are 25000 negative reviews\n"
          ],
          "name": "stdout"
        }
      ]
    },
    {
      "cell_type": "code",
      "metadata": {
        "id": "nH8Y5ekxj6YA",
        "colab_type": "code",
        "colab": {
          "base_uri": "https://localhost:8080/",
          "height": 34
        },
        "outputId": "c8818f17-53c1-4dfe-ed24-4846835d2dcf"
      },
      "source": [
        "# Word under positive Reviews\n",
        "positive_review = \" \".join(review for review in positive['review'])\n",
        "print (\"There are {} words in the positive combination of all review.\".format(len(positive_review)))"
      ],
      "execution_count": 96,
      "outputs": [
        {
          "output_type": "stream",
          "text": [
            "There are 33151187 words in the positive combination of all review.\n"
          ],
          "name": "stdout"
        }
      ]
    },
    {
      "cell_type": "code",
      "metadata": {
        "id": "P_mZI5XsnXxG",
        "colab_type": "code",
        "colab": {
          "base_uri": "https://localhost:8080/",
          "height": 34
        },
        "outputId": "dbe0b3d8-f156-437b-e207-f734fc0b8156"
      },
      "source": [
        "# Words under Negative Reviews\n",
        "negative_review = \" \".join(review for review in negative['review'])\n",
        "print (\"There are {} words in the negative combination of all review.\".format(len(negative_review)))"
      ],
      "execution_count": 97,
      "outputs": [
        {
          "output_type": "stream",
          "text": [
            "There are 32382319 words in the negative combination of all review.\n"
          ],
          "name": "stdout"
        }
      ]
    },
    {
      "cell_type": "code",
      "metadata": {
        "id": "CdFzYiYQgbfO",
        "colab_type": "code",
        "colab": {}
      },
      "source": [
        "stopwords = set(STOPWORDS)"
      ],
      "execution_count": 0,
      "outputs": []
    },
    {
      "cell_type": "code",
      "metadata": {
        "id": "JjpslEGinP8U",
        "colab_type": "code",
        "colab": {
          "base_uri": "https://localhost:8080/",
          "height": 187
        },
        "outputId": "06ea149e-affd-43bf-d321-2ecd6ad55ab1"
      },
      "source": [
        "w1 = \"good\"\n",
        "model.wv.most_similar (positive=w1)"
      ],
      "execution_count": 119,
      "outputs": [
        {
          "output_type": "execute_result",
          "data": {
            "text/plain": [
              "[('funny', 0.7944675087928772),\n",
              " ('acting', 0.7500409483909607),\n",
              " ('pretty', 0.7330362796783447),\n",
              " ('very', 0.6685581207275391),\n",
              " ('bad', 0.6331316232681274),\n",
              " ('great', 0.6231651306152344),\n",
              " ('really', 0.6215404868125916),\n",
              " ('script', 0.5755051970481873),\n",
              " ('well', 0.5568898916244507),\n",
              " ('lot', 0.5549192428588867)]"
            ]
          },
          "metadata": {
            "tags": []
          },
          "execution_count": 119
        }
      ]
    },
    {
      "cell_type": "code",
      "metadata": {
        "id": "G21t_Jdjtvoi",
        "colab_type": "code",
        "colab": {
          "base_uri": "https://localhost:8080/",
          "height": 34
        },
        "outputId": "46a14ad3-1499-4109-995f-41035417383e"
      },
      "source": [
        "# Similarity of words \n",
        "\n",
        "model.wv.similarity(w1 =\"guy\",w2=\"good\")"
      ],
      "execution_count": 125,
      "outputs": [
        {
          "output_type": "execute_result",
          "data": {
            "text/plain": [
              "0.23827949"
            ]
          },
          "metadata": {
            "tags": []
          },
          "execution_count": 125
        }
      ]
    },
    {
      "cell_type": "code",
      "metadata": {
        "id": "8ehuslkls-9F",
        "colab_type": "code",
        "colab": {
          "base_uri": "https://localhost:8080/",
          "height": 34
        },
        "outputId": "4fef3677-d496-467c-e3c5-0ed57f42f621"
      },
      "source": [
        "# Similarity of words \n",
        "\n",
        "model.wv.similarity(w1 =\"guy\",w2=\"bad\")"
      ],
      "execution_count": 124,
      "outputs": [
        {
          "output_type": "execute_result",
          "data": {
            "text/plain": [
              "0.5494633"
            ]
          },
          "metadata": {
            "tags": []
          },
          "execution_count": 124
        }
      ]
    },
    {
      "cell_type": "code",
      "metadata": {
        "id": "W0d308oWwWlR",
        "colab_type": "code",
        "colab": {
          "base_uri": "https://localhost:8080/",
          "height": 34
        },
        "outputId": "ba3d7048-e852-4662-878c-de2dbe0c0237"
      },
      "source": [
        "\n",
        "model.wv.similarity(w1 =\"see\",w2=\"watch\")"
      ],
      "execution_count": 126,
      "outputs": [
        {
          "output_type": "execute_result",
          "data": {
            "text/plain": [
              "0.75553167"
            ]
          },
          "metadata": {
            "tags": []
          },
          "execution_count": 126
        }
      ]
    },
    {
      "cell_type": "markdown",
      "metadata": {
        "id": "YMRzi1Mq592H",
        "colab_type": "text"
      },
      "source": [
        "## **Word Cloud**\n",
        "\n",
        "**Word cloud  - give greater prominence to words that appear more frequently in a source text. The larger the word in the visual the more common the word was in the document(s). This type of visualization can assist evaluators with exploratory textual analysis**"
      ]
    },
    {
      "cell_type": "markdown",
      "metadata": {
        "id": "BqnRXKeskgIJ",
        "colab_type": "text"
      },
      "source": [
        "### **Plot for Positive Words**"
      ]
    },
    {
      "cell_type": "code",
      "metadata": {
        "id": "X-uBTYboj6Sw",
        "colab_type": "code",
        "colab": {
          "base_uri": "https://localhost:8080/",
          "height": 330
        },
        "outputId": "5223c93c-ef47-4946-8cbc-c8264e4300a4"
      },
      "source": [
        "stopwords.update([\"Nan\",\"Negative\",\"etc\", \"br\", 'film', 'movie', 'one'])\n",
        "wordcloud = WordCloud(stopwords=stopwords, background_color=\"white\", mode=\"RGBA\", max_words=100).generate(positive_review)\n",
        "plt.figure(figsize=(10,8))\n",
        "plt.imshow(wordcloud, interpolation='bilinear')\n",
        "plt.axis(\"off\")\n",
        "plt.show()"
      ],
      "execution_count": 115,
      "outputs": [
        {
          "output_type": "display_data",
          "data": {
            "image/png": "[encoded data removed]",
            "text/plain": [
              "<Figure size 720x576 with 1 Axes>"
            ]
          },
          "metadata": {
            "tags": []
          }
        }
      ]
    },
    {
      "cell_type": "markdown",
      "metadata": {
        "id": "-L8CJ1R-k24B",
        "colab_type": "text"
      },
      "source": [
        "### **Plot For Negative Words**"
      ]
    },
    {
      "cell_type": "code",
      "metadata": {
        "id": "kNIJoAdsj6OY",
        "colab_type": "code",
        "colab": {
          "base_uri": "https://localhost:8080/",
          "height": 330
        },
        "outputId": "d32ca0c5-718b-4e9b-d4b8-bbe71d2b6989"
      },
      "source": [
        "stopwords.update([\"Nan\",\"positive\",\"happy\", \"br\", 'film', 'good', 'best'])\n",
        "wordcloud = WordCloud(stopwords=stopwords, background_color=\"white\", mode=\"RGBA\", max_words=100).generate(negative_review)\n",
        "plt.figure(figsize=(10,8))\n",
        "plt.imshow(wordcloud, interpolation='bilinear')\n",
        "plt.axis(\"off\")\n",
        "plt.show()"
      ],
      "execution_count": 116,
      "outputs": [
        {
          "output_type": "display_data",
          "data": {
            "image/png": "[encoded data removed]",
            "text/plain": [
              "<Figure size 720x576 with 1 Axes>"
            ]
          },
          "metadata": {
            "tags": []
          }
        }
      ]
    },
    {
      "cell_type": "code",
      "metadata": {
        "id": "WBwZiHEzfUQW",
        "colab_type": "code",
        "colab": {}
      },
      "source": [
        "text = \" \".join(review for review in movies['review'])"
      ],
      "execution_count": 0,
      "outputs": []
    },
    {
      "cell_type": "code",
      "metadata": {
        "id": "gUpmCU5QafW_",
        "colab_type": "code",
        "colab": {}
      },
      "source": [
        "stopwords = set(stop_words)\n",
        "stopwords.update([\"Nan\",\"Negative\",\"etc\", \"br\", 'movie', 'film', 'one', 'make', 'even'])\n",
        "# film\n",
        "cloud = WordCloud(stopwords=stopwords, background_color=\"white\", max_words=100).generate(text)"
      ],
      "execution_count": 0,
      "outputs": []
    },
    {
      "cell_type": "markdown",
      "metadata": {
        "id": "RAPXHSdFhgDt",
        "colab_type": "text"
      },
      "source": [
        "### **Showing the most Used term in the  reviews**"
      ]
    },
    {
      "cell_type": "code",
      "metadata": {
        "id": "WXKm9J3iafTc",
        "colab_type": "code",
        "colab": {}
      },
      "source": [
        "plt.figure(figsize=(10,8))\n",
        "plt.imshow(cloud, interpolation='bilinear')\n",
        "plt.axis(\"off\")\n",
        "plt.show()"
      ],
      "execution_count": 0,
      "outputs": []
    },
    {
      "cell_type": "code",
      "metadata": {
        "id": "iRcPypQ30RpL",
        "colab_type": "code",
        "colab": {
          "base_uri": "https://localhost:8080/",
          "height": 17
        },
        "outputId": "a1e7c763-5469-4f89-cb97-1707b2776b8f"
      },
      "source": [
        "import plotly.offline as py\n",
        "import plotly.graph_objs as go\n",
        "py.init_notebook_mode(connected=True)"
      ],
      "execution_count": 130,
      "outputs": [
        {
          "output_type": "display_data",
          "data": {
            "text/html": [
              "        <script type=\"text/javascript\">\n",
              "        window.PlotlyConfig = {MathJaxConfig: 'local'};\n",
              "        if (window.MathJax) {MathJax.Hub.Config({SVG: {font: \"STIX-Web\"}});}\n",
              "        if (typeof require !== 'undefined') {\n",
              "        require.undef(\"plotly\");\n",
              "        requirejs.config({\n",
              "            paths: {\n",
              "                'plotly': ['https://cdn.plot.ly/plotly-latest.min']\n",
              "            }\n",
              "        });\n",
              "        require(['plotly'], function(Plotly) {\n",
              "            window._Plotly = Plotly;\n",
              "        });\n",
              "        }\n",
              "        </script>\n",
              "        "
            ]
          },
          "metadata": {
            "tags": []
          }
        }
      ]
    },
    {
      "cell_type": "code",
      "metadata": {
        "id": "fS8qOicl3O8w",
        "colab_type": "code",
        "colab": {}
      },
      "source": [
        "import plotly\n",
        "import plotly.graph_objs as go\n",
        "from plotly.offline import *"
      ],
      "execution_count": 0,
      "outputs": []
    },
    {
      "cell_type": "code",
      "metadata": {
        "id": "6JhR-lLS2m50",
        "colab_type": "code",
        "colab": {}
      },
      "source": [
        "%matplotlib inline"
      ],
      "execution_count": 0,
      "outputs": []
    },
    {
      "cell_type": "code",
      "metadata": {
        "id": "VFDPoML5afOc",
        "colab_type": "code",
        "colab": {
          "base_uri": "https://localhost:8080/",
          "height": 1000
        },
        "outputId": "d8a8a284-c0a8-47b8-a0a4-81e320622b48"
      },
      "source": [
        "all_words = movies['review'].str.split(expand=True).unstack().value_counts()\n",
        "data = [go.Bar(\n",
        "            x = all_words.index.values[2:50],\n",
        "            y = all_words.values[2:50],\n",
        "            marker= dict(colorscale='Jet',\n",
        "                         color = all_words.values[2:100]\n",
        "                        ),\n",
        "            text='Word counts'\n",
        "    )]\n",
        "\n",
        "layout = go.Layout(\n",
        "    title='Top 50 (Uncleaned) Word frequencies in the training dataset'\n",
        ")\n",
        "\n",
        "fig = go.Figure(data=data, layout=layout)\n",
        "\n",
        "py.iplot(fig, filename='basic-bar')\n",
        "fig.show()\n",
        "\n"
      ],
      "execution_count": 145,
      "outputs": [
        {
          "output_type": "display_data",
          "data": {
            "text/html": [
              "<div>\n",
              "        \n",
              "        \n",
              "            <div id=\"ccc592ea-dbc4-4421-8395-2318d27d9d5c\" class=\"plotly-graph-div\" style=\"height:525px; width:100%;\"></div>\n",
              "            <script type=\"text/javascript\">\n",
              "                require([\"plotly\"], function(Plotly) {\n",
              "                    window.PLOTLYENV=window.PLOTLYENV || {};\n",
              "                    \n",
              "                if (document.getElementById(\"ccc592ea-dbc4-4421-8395-2318d27d9d5c\")) {\n",
              "                    Plotly.newPlot(\n",
              "                        'ccc592ea-dbc4-4421-8395-2318d27d9d5c',\n",
              "                        [{\"marker\": {\"color\": [301914, 283620, 261848, 203049, 169978, 132498, 126811, 113722, 107899, 100974, 92657, 83128, 82565, 80914, 67317, 66280, 61192, 60754, 56513, 54272, 54197, 54008, 52135, 50696, 50538, 42421, 42288, 42113, 41329, 41076, 37875, 37207, 36027, 35269, 35201, 32420, 32384, 32336, 32219, 32035, 29942, 28676, 28052, 25793, 25410, 24329, 23578, 23319, 22748, 22581, 22008, 21975, 21694, 21475, 21321, 21304, 21191, 20979, 20949, 20859, 20703, 20552, 20362, 20356, 19949, 19043, 18980, 18201, 18153, 17883, 17515, 17331, 16938, 16827, 16439, 16370, 15744, 15505, 15307, 15190, 15165, 14859, 14772, 14754, 14689, 14607, 14412, 14385, 14385, 14335, 14283, 14199, 13953, 13418, 13082, 12845, 12497, 12290], \"colorscale\": [[0.0, \"rgb(0,0,131)\"], [0.2, \"rgb(0,60,170)\"], [0.4, \"rgb(5,255,255)\"], [0.6, \"rgb(255,255,0)\"], [0.8, \"rgb(250,0,0)\"], [1.0, \"rgb(128,0,0)\"]]}, \"text\": \"Word counts\", \"type\": \"bar\", \"x\": [\"and\", \"of\", \"to\", \"is\", \"in\", \"I\", \"that\", \"this\", \"it\", \"/><br\", \"was\", \"as\", \"with\", \"for\", \"The\", \"but\", \"on\", \"movie\", \"are\", \"film\", \"his\", \"have\", \"not\", \"you\", \"be\", \"at\", \"by\", \"he\", \"one\", \"an\", \"from\", \"who\", \"like\", \"all\", \"they\", \"has\", \"so\", \"just\", \"or\", \"about\", \"her\", \"out\", \"some\", \"very\", \"more\", \"This\", \"would\", \"what\"], \"y\": [301914, 283620, 261848, 203049, 169978, 132498, 126811, 113722, 107899, 100974, 92657, 83128, 82565, 80914, 67317, 66280, 61192, 60754, 56513, 54272, 54197, 54008, 52135, 50696, 50538, 42421, 42288, 42113, 41329, 41076, 37875, 37207, 36027, 35269, 35201, 32420, 32384, 32336, 32219, 32035, 29942, 28676, 28052, 25793, 25410, 24329, 23578, 23319]}],\n",
              "                        {\"template\": {\"data\": {\"bar\": [{\"error_x\": {\"color\": \"#2a3f5f\"}, \"error_y\": {\"color\": \"#2a3f5f\"}, \"marker\": {\"line\": {\"color\": \"#E5ECF6\", \"width\": 0.5}}, \"type\": \"bar\"}], \"barpolar\": [{\"marker\": {\"line\": {\"color\": \"#E5ECF6\", \"width\": 0.5}}, \"type\": \"barpolar\"}], \"carpet\": [{\"aaxis\": {\"endlinecolor\": \"#2a3f5f\", \"gridcolor\": \"white\", \"linecolor\": \"white\", \"minorgridcolor\": \"white\", \"startlinecolor\": \"#2a3f5f\"}, \"baxis\": {\"endlinecolor\": \"#2a3f5f\", \"gridcolor\": \"white\", \"linecolor\": \"white\", \"minorgridcolor\": \"white\", \"startlinecolor\": \"#2a3f5f\"}, \"type\": \"carpet\"}], \"choropleth\": [{\"colorbar\": {\"outlinewidth\": 0, \"ticks\": \"\"}, \"type\": \"choropleth\"}], \"contour\": [{\"colorbar\": {\"outlinewidth\": 0, \"ticks\": \"\"}, \"colorscale\": [[0.0, \"#0d0887\"], [0.1111111111111111, \"#46039f\"], [0.2222222222222222, \"#7201a8\"], [0.3333333333333333, \"#9c179e\"], [0.4444444444444444, \"#bd3786\"], [0.5555555555555556, \"#d8576b\"], [0.6666666666666666, \"#ed7953\"], [0.7777777777777778, \"#fb9f3a\"], [0.8888888888888888, \"#fdca26\"], [1.0, \"#f0f921\"]], \"type\": \"contour\"}], \"contourcarpet\": [{\"colorbar\": {\"outlinewidth\": 0, \"ticks\": \"\"}, \"type\": \"contourcarpet\"}], \"heatmap\": [{\"colorbar\": {\"outlinewidth\": 0, \"ticks\": \"\"}, \"colorscale\": [[0.0, \"#0d0887\"], [0.1111111111111111, \"#46039f\"], [0.2222222222222222, \"#7201a8\"], [0.3333333333333333, \"#9c179e\"], [0.4444444444444444, \"#bd3786\"], [0.5555555555555556, \"#d8576b\"], [0.6666666666666666, \"#ed7953\"], [0.7777777777777778, \"#fb9f3a\"], [0.8888888888888888, \"#fdca26\"], [1.0, \"#f0f921\"]], \"type\": \"heatmap\"}], \"heatmapgl\": [{\"colorbar\": {\"outlinewidth\": 0, \"ticks\": \"\"}, \"colorscale\": [[0.0, \"#0d0887\"], [0.1111111111111111, \"#46039f\"], [0.2222222222222222, \"#7201a8\"], [0.3333333333333333, \"#9c179e\"], [0.4444444444444444, \"#bd3786\"], [0.5555555555555556, \"#d8576b\"], [0.6666666666666666, \"#ed7953\"], [0.7777777777777778, \"#fb9f3a\"], [0.8888888888888888, \"#fdca26\"], [1.0, \"#f0f921\"]], \"type\": \"heatmapgl\"}], \"histogram\": [{\"marker\": {\"colorbar\": {\"outlinewidth\": 0, \"ticks\": \"\"}}, \"type\": \"histogram\"}], \"histogram2d\": [{\"colorbar\": {\"outlinewidth\": 0, \"ticks\": \"\"}, \"colorscale\": [[0.0, \"#0d0887\"], [0.1111111111111111, \"#46039f\"], [0.2222222222222222, \"#7201a8\"], [0.3333333333333333, \"#9c179e\"], [0.4444444444444444, \"#bd3786\"], [0.5555555555555556, \"#d8576b\"], [0.6666666666666666, \"#ed7953\"], [0.7777777777777778, \"#fb9f3a\"], [0.8888888888888888, \"#fdca26\"], [1.0, \"#f0f921\"]], \"type\": \"histogram2d\"}], \"histogram2dcontour\": [{\"colorbar\": {\"outlinewidth\": 0, \"ticks\": \"\"}, \"colorscale\": [[0.0, \"#0d0887\"], [0.1111111111111111, \"#46039f\"], [0.2222222222222222, \"#7201a8\"], [0.3333333333333333, \"#9c179e\"], [0.4444444444444444, \"#bd3786\"], [0.5555555555555556, \"#d8576b\"], [0.6666666666666666, \"#ed7953\"], [0.7777777777777778, \"#fb9f3a\"], [0.8888888888888888, \"#fdca26\"], [1.0, \"#f0f921\"]], \"type\": \"histogram2dcontour\"}], \"mesh3d\": [{\"colorbar\": {\"outlinewidth\": 0, \"ticks\": \"\"}, \"type\": \"mesh3d\"}], \"parcoords\": [{\"line\": {\"colorbar\": {\"outlinewidth\": 0, \"ticks\": \"\"}}, \"type\": \"parcoords\"}], \"scatter\": [{\"marker\": {\"colorbar\": {\"outlinewidth\": 0, \"ticks\": \"\"}}, \"type\": \"scatter\"}], \"scatter3d\": [{\"line\": {\"colorbar\": {\"outlinewidth\": 0, \"ticks\": \"\"}}, \"marker\": {\"colorbar\": {\"outlinewidth\": 0, \"ticks\": \"\"}}, \"type\": \"scatter3d\"}], \"scattercarpet\": [{\"marker\": {\"colorbar\": {\"outlinewidth\": 0, \"ticks\": \"\"}}, \"type\": \"scattercarpet\"}], \"scattergeo\": [{\"marker\": {\"colorbar\": {\"outlinewidth\": 0, \"ticks\": \"\"}}, \"type\": \"scattergeo\"}], \"scattergl\": [{\"marker\": {\"colorbar\": {\"outlinewidth\": 0, \"ticks\": \"\"}}, \"type\": \"scattergl\"}], \"scattermapbox\": [{\"marker\": {\"colorbar\": {\"outlinewidth\": 0, \"ticks\": \"\"}}, \"type\": \"scattermapbox\"}], \"scatterpolar\": [{\"marker\": {\"colorbar\": {\"outlinewidth\": 0, \"ticks\": \"\"}}, \"type\": \"scatterpolar\"}], \"scatterpolargl\": [{\"marker\": {\"colorbar\": {\"outlinewidth\": 0, \"ticks\": \"\"}}, \"type\": \"scatterpolargl\"}], \"scatterternary\": [{\"marker\": {\"colorbar\": {\"outlinewidth\": 0, \"ticks\": \"\"}}, \"type\": \"scatterternary\"}], \"surface\": [{\"colorbar\": {\"outlinewidth\": 0, \"ticks\": \"\"}, \"colorscale\": [[0.0, \"#0d0887\"], [0.1111111111111111, \"#46039f\"], [0.2222222222222222, \"#7201a8\"], [0.3333333333333333, \"#9c179e\"], [0.4444444444444444, \"#bd3786\"], [0.5555555555555556, \"#d8576b\"], [0.6666666666666666, \"#ed7953\"], [0.7777777777777778, \"#fb9f3a\"], [0.8888888888888888, \"#fdca26\"], [1.0, \"#f0f921\"]], \"type\": \"surface\"}], \"table\": [{\"cells\": {\"fill\": {\"color\": \"#EBF0F8\"}, \"line\": {\"color\": \"white\"}}, \"header\": {\"fill\": {\"color\": \"#C8D4E3\"}, \"line\": {\"color\": \"white\"}}, \"type\": \"table\"}]}, \"layout\": {\"annotationdefaults\": {\"arrowcolor\": \"#2a3f5f\", \"arrowhead\": 0, \"arrowwidth\": 1}, \"colorscale\": {\"diverging\": [[0, \"#8e0152\"], [0.1, \"#c51b7d\"], [0.2, \"#de77ae\"], [0.3, \"#f1b6da\"], [0.4, \"#fde0ef\"], [0.5, \"#f7f7f7\"], [0.6, \"#e6f5d0\"], [0.7, \"#b8e186\"], [0.8, \"#7fbc41\"], [0.9, \"#4d9221\"], [1, \"#276419\"]], \"sequential\": [[0.0, \"#0d0887\"], [0.1111111111111111, \"#46039f\"], [0.2222222222222222, \"#7201a8\"], [0.3333333333333333, \"#9c179e\"], [0.4444444444444444, \"#bd3786\"], [0.5555555555555556, \"#d8576b\"], [0.6666666666666666, \"#ed7953\"], [0.7777777777777778, \"#fb9f3a\"], [0.8888888888888888, \"#fdca26\"], [1.0, \"#f0f921\"]], \"sequentialminus\": [[0.0, \"#0d0887\"], [0.1111111111111111, \"#46039f\"], [0.2222222222222222, \"#7201a8\"], [0.3333333333333333, \"#9c179e\"], [0.4444444444444444, \"#bd3786\"], [0.5555555555555556, \"#d8576b\"], [0.6666666666666666, \"#ed7953\"], [0.7777777777777778, \"#fb9f3a\"], [0.8888888888888888, \"#fdca26\"], [1.0, \"#f0f921\"]]}, \"colorway\": [\"#636efa\", \"#EF553B\", \"#00cc96\", \"#ab63fa\", \"#FFA15A\", \"#19d3f3\", \"#FF6692\", \"#B6E880\", \"#FF97FF\", \"#FECB52\"], \"font\": {\"color\": \"#2a3f5f\"}, \"geo\": {\"bgcolor\": \"white\", \"lakecolor\": \"white\", \"landcolor\": \"#E5ECF6\", \"showlakes\": true, \"showland\": true, \"subunitcolor\": \"white\"}, \"hoverlabel\": {\"align\": \"left\"}, \"hovermode\": \"closest\", \"mapbox\": {\"style\": \"light\"}, \"paper_bgcolor\": \"white\", \"plot_bgcolor\": \"#E5ECF6\", \"polar\": {\"angularaxis\": {\"gridcolor\": \"white\", \"linecolor\": \"white\", \"ticks\": \"\"}, \"bgcolor\": \"#E5ECF6\", \"radialaxis\": {\"gridcolor\": \"white\", \"linecolor\": \"white\", \"ticks\": \"\"}}, \"scene\": {\"xaxis\": {\"backgroundcolor\": \"#E5ECF6\", \"gridcolor\": \"white\", \"gridwidth\": 2, \"linecolor\": \"white\", \"showbackground\": true, \"ticks\": \"\", \"zerolinecolor\": \"white\"}, \"yaxis\": {\"backgroundcolor\": \"#E5ECF6\", \"gridcolor\": \"white\", \"gridwidth\": 2, \"linecolor\": \"white\", \"showbackground\": true, \"ticks\": \"\", \"zerolinecolor\": \"white\"}, \"zaxis\": {\"backgroundcolor\": \"#E5ECF6\", \"gridcolor\": \"white\", \"gridwidth\": 2, \"linecolor\": \"white\", \"showbackground\": true, \"ticks\": \"\", \"zerolinecolor\": \"white\"}}, \"shapedefaults\": {\"line\": {\"color\": \"#2a3f5f\"}}, \"ternary\": {\"aaxis\": {\"gridcolor\": \"white\", \"linecolor\": \"white\", \"ticks\": \"\"}, \"baxis\": {\"gridcolor\": \"white\", \"linecolor\": \"white\", \"ticks\": \"\"}, \"bgcolor\": \"#E5ECF6\", \"caxis\": {\"gridcolor\": \"white\", \"linecolor\": \"white\", \"ticks\": \"\"}}, \"title\": {\"x\": 0.05}, \"xaxis\": {\"automargin\": true, \"gridcolor\": \"white\", \"linecolor\": \"white\", \"ticks\": \"\", \"zerolinecolor\": \"white\", \"zerolinewidth\": 2}, \"yaxis\": {\"automargin\": true, \"gridcolor\": \"white\", \"linecolor\": \"white\", \"ticks\": \"\", \"zerolinecolor\": \"white\", \"zerolinewidth\": 2}}}, \"title\": {\"text\": \"Top 50 (Uncleaned) Word frequencies in the training dataset\"}},\n",
              "                        {\"responsive\": true}\n",
              "                    ).then(function(){\n",
              "                            \n",
              "var gd = document.getElementById('ccc592ea-dbc4-4421-8395-2318d27d9d5c');\n",
              "var x = new MutationObserver(function (mutations, observer) {{\n",
              "        var display = window.getComputedStyle(gd).display;\n",
              "        if (!display || display === 'none') {{\n",
              "            console.log([gd, 'removed!']);\n",
              "            Plotly.purge(gd);\n",
              "            observer.disconnect();\n",
              "        }}\n",
              "}});\n",
              "\n",
              "// Listen for the removal of the full notebook cells\n",
              "var notebookContainer = gd.closest('#notebook-container');\n",
              "if (notebookContainer) {{\n",
              "    x.observe(notebookContainer, {childList: true});\n",
              "}}\n",
              "\n",
              "// Listen for the clearing of the current output cell\n",
              "var outputEl = gd.closest('.output');\n",
              "if (outputEl) {{\n",
              "    x.observe(outputEl, {childList: true});\n",
              "}}\n",
              "\n",
              "                        })\n",
              "                };\n",
              "                });\n",
              "            </script>\n",
              "        </div>"
            ],
            "application/vnd.plotly.v1+json": {
              "data": [
                {
                  "marker": {
                    "color": [
                      301914,
                      283620,
                      261848,
                      203049,
                      169978,
                      132498,
                      126811,
                      113722,
                      107899,
                      100974,
                      92657,
                      83128,
                      82565,
                      80914,
                      67317,
                      66280,
                      61192,
                      60754,
                      56513,
                      54272,
                      54197,
                      54008,
                      52135,
                      50696,
                      50538,
                      42421,
                      42288,
                      42113,
                      41329,
                      41076,
                      37875,
                      37207,
                      36027,
                      35269,
                      35201,
                      32420,
                      32384,
                      32336,
                      32219,
                      32035,
                      29942,
                      28676,
                      28052,
                      25793,
                      25410,
                      24329,
                      23578,
                      23319,
                      22748,
                      22581,
                      22008,
                      21975,
                      21694,
                      21475,
                      21321,
                      21304,
                      21191,
                      20979,
                      20949,
                      20859,
                      20703,
                      20552,
                      20362,
                      20356,
                      19949,
                      19043,
                      18980,
                      18201,
                      18153,
                      17883,
                      17515,
                      17331,
                      16938,
                      16827,
                      16439,
                      16370,
                      15744,
                      15505,
                      15307,
                      15190,
                      15165,
                      14859,
                      14772,
                      14754,
                      14689,
                      14607,
                      14412,
                      14385,
                      14385,
                      14335,
                      14283,
                      14199,
                      13953,
                      13418,
                      13082,
                      12845,
                      12497,
                      12290
                    ],
                    "colorscale": [
                      [
                        0,
                        "rgb(0,0,131)"
                      ],
                      [
                        0.2,
                        "rgb(0,60,170)"
                      ],
                      [
                        0.4,
                        "rgb(5,255,255)"
                      ],
                      [
                        0.6,
                        "rgb(255,255,0)"
                      ],
                      [
                        0.8,
                        "rgb(250,0,0)"
                      ],
                      [
                        1,
                        "rgb(128,0,0)"
                      ]
                    ]
                  },
                  "text": "Word counts",
                  "type": "bar",
                  "y": [
                    301914,
                    283620,
                    261848,
                    203049,
                    169978,
                    132498,
                    126811,
                    113722,
                    107899,
                    100974,
                    92657,
                    83128,
                    82565,
                    80914,
                    67317,
                    66280,
                    61192,
                    60754,
                    56513,
                    54272,
                    54197,
                    54008,
                    52135,
                    50696,
                    50538,
                    42421,
                    42288,
                    42113,
                    41329,
                    41076,
                    37875,
                    37207,
                    36027,
                    35269,
                    35201,
                    32420,
                    32384,
                    32336,
                    32219,
                    32035,
                    29942,
                    28676,
                    28052,
                    25793,
                    25410,
                    24329,
                    23578,
                    23319
                  ],
                  "x": [
                    "and",
                    "of",
                    "to",
                    "is",
                    "in",
                    "I",
                    "that",
                    "this",
                    "it",
                    "/><br",
                    "was",
                    "as",
                    "with",
                    "for",
                    "The",
                    "but",
                    "on",
                    "movie",
                    "are",
                    "film",
                    "his",
                    "have",
                    "not",
                    "you",
                    "be",
                    "at",
                    "by",
                    "he",
                    "one",
                    "an",
                    "from",
                    "who",
                    "like",
                    "all",
                    "they",
                    "has",
                    "so",
                    "just",
                    "or",
                    "about",
                    "her",
                    "out",
                    "some",
                    "very",
                    "more",
                    "This",
                    "would",
                    "what"
                  ]
                }
              ],
              "config": {
                "plotlyServerURL": "https://plot.ly",
                "linkText": "Export to plot.ly",
                "showLink": false
              },
              "layout": {
                "template": {
                  "layout": {
                    "shapedefaults": {
                      "line": {
                        "color": "#2a3f5f"
                      }
                    },
                    "polar": {
                      "radialaxis": {
                        "ticks": "",
                        "gridcolor": "white",
                        "linecolor": "white"
                      },
                      "bgcolor": "#E5ECF6",
                      "angularaxis": {
                        "ticks": "",
                        "gridcolor": "white",
                        "linecolor": "white"
                      }
                    },
                    "colorway": [
                      "#636efa",
                      "#EF553B",
                      "#00cc96",
                      "#ab63fa",
                      "#FFA15A",
                      "#19d3f3",
                      "#FF6692",
                      "#B6E880",
                      "#FF97FF",
                      "#FECB52"
                    ],
                    "xaxis": {
                      "automargin": true,
                      "zerolinewidth": 2,
                      "ticks": "",
                      "zerolinecolor": "white",
                      "gridcolor": "white",
                      "linecolor": "white"
                    },
                    "colorscale": {
                      "diverging": [
                        [
                          0,
                          "#8e0152"
                        ],
                        [
                          0.1,
                          "#c51b7d"
                        ],
                        [
                          0.2,
                          "#de77ae"
                        ],
                        [
                          0.3,
                          "#f1b6da"
                        ],
                        [
                          0.4,
                          "#fde0ef"
                        ],
                        [
                          0.5,
                          "#f7f7f7"
                        ],
                        [
                          0.6,
                          "#e6f5d0"
                        ],
                        [
                          0.7,
                          "#b8e186"
                        ],
                        [
                          0.8,
                          "#7fbc41"
                        ],
                        [
                          0.9,
                          "#4d9221"
                        ],
                        [
                          1,
                          "#276419"
                        ]
                      ],
                      "sequential": [
                        [
                          0,
                          "#0d0887"
                        ],
                        [
                          0.1111111111111111,
                          "#46039f"
                        ],
                        [
                          0.2222222222222222,
                          "#7201a8"
                        ],
                        [
                          0.3333333333333333,
                          "#9c179e"
                        ],
                        [
                          0.4444444444444444,
                          "#bd3786"
                        ],
                        [
                          0.5555555555555556,
                          "#d8576b"
                        ],
                        [
                          0.6666666666666666,
                          "#ed7953"
                        ],
                        [
                          0.7777777777777778,
                          "#fb9f3a"
                        ],
                        [
                          0.8888888888888888,
                          "#fdca26"
                        ],
                        [
                          1,
                          "#f0f921"
                        ]
                      ],
                      "sequentialminus": [
                        [
                          0,
                          "#0d0887"
                        ],
                        [
                          0.1111111111111111,
                          "#46039f"
                        ],
                        [
                          0.2222222222222222,
                          "#7201a8"
                        ],
                        [
                          0.3333333333333333,
                          "#9c179e"
                        ],
                        [
                          0.4444444444444444,
                          "#bd3786"
                        ],
                        [
                          0.5555555555555556,
                          "#d8576b"
                        ],
                        [
                          0.6666666666666666,
                          "#ed7953"
                        ],
                        [
                          0.7777777777777778,
                          "#fb9f3a"
                        ],
                        [
                          0.8888888888888888,
                          "#fdca26"
                        ],
                        [
                          1,
                          "#f0f921"
                        ]
                      ]
                    },
                    "paper_bgcolor": "white",
                    "plot_bgcolor": "#E5ECF6",
                    "title": {
                      "x": 0.05
                    },
                    "scene": {
                      "zaxis": {
                        "backgroundcolor": "#E5ECF6",
                        "ticks": "",
                        "gridwidth": 2,
                        "showbackground": true,
                        "zerolinecolor": "white",
                        "gridcolor": "white",
                        "linecolor": "white"
                      },
                      "xaxis": {
                        "backgroundcolor": "#E5ECF6",
                        "ticks": "",
                        "gridwidth": 2,
                        "showbackground": true,
                        "zerolinecolor": "white",
                        "gridcolor": "white",
                        "linecolor": "white"
                      },
                      "yaxis": {
                        "backgroundcolor": "#E5ECF6",
                        "ticks": "",
                        "gridwidth": 2,
                        "showbackground": true,
                        "zerolinecolor": "white",
                        "gridcolor": "white",
                        "linecolor": "white"
                      }
                    },
                    "yaxis": {
                      "automargin": true,
                      "zerolinewidth": 2,
                      "ticks": "",
                      "zerolinecolor": "white",
                      "gridcolor": "white",
                      "linecolor": "white"
                    },
                    "hoverlabel": {
                      "align": "left"
                    },
                    "ternary": {
                      "bgcolor": "#E5ECF6",
                      "baxis": {
                        "ticks": "",
                        "gridcolor": "white",
                        "linecolor": "white"
                      },
                      "caxis": {
                        "ticks": "",
                        "gridcolor": "white",
                        "linecolor": "white"
                      },
                      "aaxis": {
                        "ticks": "",
                        "gridcolor": "white",
                        "linecolor": "white"
                      }
                    },
                    "mapbox": {
                      "style": "light"
                    },
                    "hovermode": "closest",
                    "font": {
                      "color": "#2a3f5f"
                    },
                    "geo": {
                      "showland": true,
                      "landcolor": "#E5ECF6",
                      "showlakes": true,
                      "bgcolor": "white",
                      "subunitcolor": "white",
                      "lakecolor": "white"
                    },
                    "annotationdefaults": {
                      "arrowwidth": 1,
                      "arrowhead": 0,
                      "arrowcolor": "#2a3f5f"
                    }
                  },
                  "data": {
                    "mesh3d": [
                      {
                        "colorbar": {
                          "outlinewidth": 0,
                          "ticks": ""
                        },
                        "type": "mesh3d"
                      }
                    ],
                    "scattercarpet": [
                      {
                        "marker": {
                          "colorbar": {
                            "outlinewidth": 0,
                            "ticks": ""
                          }
                        },
                        "type": "scattercarpet"
                      }
                    ],
                    "scatterternary": [
                      {
                        "marker": {
                          "colorbar": {
                            "outlinewidth": 0,
                            "ticks": ""
                          }
                        },
                        "type": "scatterternary"
                      }
                    ],
                    "surface": [
                      {
                        "colorbar": {
                          "outlinewidth": 0,
                          "ticks": ""
                        },
                        "type": "surface",
                        "colorscale": [
                          [
                            0,
                            "#0d0887"
                          ],
                          [
                            0.1111111111111111,
                            "#46039f"
                          ],
                          [
                            0.2222222222222222,
                            "#7201a8"
                          ],
                          [
                            0.3333333333333333,
                            "#9c179e"
                          ],
                          [
                            0.4444444444444444,
                            "#bd3786"
                          ],
                          [
                            0.5555555555555556,
                            "#d8576b"
                          ],
                          [
                            0.6666666666666666,
                            "#ed7953"
                          ],
                          [
                            0.7777777777777778,
                            "#fb9f3a"
                          ],
                          [
                            0.8888888888888888,
                            "#fdca26"
                          ],
                          [
                            1,
                            "#f0f921"
                          ]
                        ]
                      }
                    ],
                    "table": [
                      {
                        "header": {
                          "line": {
                            "color": "white"
                          },
                          "fill": {
                            "color": "#C8D4E3"
                          }
                        },
                        "cells": {
                          "line": {
                            "color": "white"
                          },
                          "fill": {
                            "color": "#EBF0F8"
                          }
                        },
                        "type": "table"
                      }
                    ],
                    "scatterpolargl": [
                      {
                        "marker": {
                          "colorbar": {
                            "outlinewidth": 0,
                            "ticks": ""
                          }
                        },
                        "type": "scatterpolargl"
                      }
                    ],
                    "contour": [
                      {
                        "colorbar": {
                          "outlinewidth": 0,
                          "ticks": ""
                        },
                        "type": "contour",
                        "colorscale": [
                          [
                            0,
                            "#0d0887"
                          ],
                          [
                            0.1111111111111111,
                            "#46039f"
                          ],
                          [
                            0.2222222222222222,
                            "#7201a8"
                          ],
                          [
                            0.3333333333333333,
                            "#9c179e"
                          ],
                          [
                            0.4444444444444444,
                            "#bd3786"
                          ],
                          [
                            0.5555555555555556,
                            "#d8576b"
                          ],
                          [
                            0.6666666666666666,
                            "#ed7953"
                          ],
                          [
                            0.7777777777777778,
                            "#fb9f3a"
                          ],
                          [
                            0.8888888888888888,
                            "#fdca26"
                          ],
                          [
                            1,
                            "#f0f921"
                          ]
                        ]
                      }
                    ],
                    "carpet": [
                      {
                        "type": "carpet",
                        "baxis": {
                          "minorgridcolor": "white",
                          "gridcolor": "white",
                          "linecolor": "white",
                          "endlinecolor": "#2a3f5f",
                          "startlinecolor": "#2a3f5f"
                        },
                        "aaxis": {
                          "minorgridcolor": "white",
                          "gridcolor": "white",
                          "linecolor": "white",
                          "endlinecolor": "#2a3f5f",
                          "startlinecolor": "#2a3f5f"
                        }
                      }
                    ],
                    "contourcarpet": [
                      {
                        "colorbar": {
                          "outlinewidth": 0,
                          "ticks": ""
                        },
                        "type": "contourcarpet"
                      }
                    ],
                    "heatmap": [
                      {
                        "colorbar": {
                          "outlinewidth": 0,
                          "ticks": ""
                        },
                        "type": "heatmap",
                        "colorscale": [
                          [
                            0,
                            "#0d0887"
                          ],
                          [
                            0.1111111111111111,
                            "#46039f"
                          ],
                          [
                            0.2222222222222222,
                            "#7201a8"
                          ],
                          [
                            0.3333333333333333,
                            "#9c179e"
                          ],
                          [
                            0.4444444444444444,
                            "#bd3786"
                          ],
                          [
                            0.5555555555555556,
                            "#d8576b"
                          ],
                          [
                            0.6666666666666666,
                            "#ed7953"
                          ],
                          [
                            0.7777777777777778,
                            "#fb9f3a"
                          ],
                          [
                            0.8888888888888888,
                            "#fdca26"
                          ],
                          [
                            1,
                            "#f0f921"
                          ]
                        ]
                      }
                    ],
                    "scattermapbox": [
                      {
                        "marker": {
                          "colorbar": {
                            "outlinewidth": 0,
                            "ticks": ""
                          }
                        },
                        "type": "scattermapbox"
                      }
                    ],
                    "scatter3d": [
                      {
                        "marker": {
                          "colorbar": {
                            "outlinewidth": 0,
                            "ticks": ""
                          }
                        },
                        "line": {
                          "colorbar": {
                            "outlinewidth": 0,
                            "ticks": ""
                          }
                        },
                        "type": "scatter3d"
                      }
                    ],
                    "scattergl": [
                      {
                        "marker": {
                          "colorbar": {
                            "outlinewidth": 0,
                            "ticks": ""
                          }
                        },
                        "type": "scattergl"
                      }
                    ],
                    "histogram": [
                      {
                        "marker": {
                          "colorbar": {
                            "outlinewidth": 0,
                            "ticks": ""
                          }
                        },
                        "type": "histogram"
                      }
                    ],
                    "heatmapgl": [
                      {
                        "colorbar": {
                          "outlinewidth": 0,
                          "ticks": ""
                        },
                        "type": "heatmapgl",
                        "colorscale": [
                          [
                            0,
                            "#0d0887"
                          ],
                          [
                            0.1111111111111111,
                            "#46039f"
                          ],
                          [
                            0.2222222222222222,
                            "#7201a8"
                          ],
                          [
                            0.3333333333333333,
                            "#9c179e"
                          ],
                          [
                            0.4444444444444444,
                            "#bd3786"
                          ],
                          [
                            0.5555555555555556,
                            "#d8576b"
                          ],
                          [
                            0.6666666666666666,
                            "#ed7953"
                          ],
                          [
                            0.7777777777777778,
                            "#fb9f3a"
                          ],
                          [
                            0.8888888888888888,
                            "#fdca26"
                          ],
                          [
                            1,
                            "#f0f921"
                          ]
                        ]
                      }
                    ],
                    "scatterpolar": [
                      {
                        "marker": {
                          "colorbar": {
                            "outlinewidth": 0,
                            "ticks": ""
                          }
                        },
                        "type": "scatterpolar"
                      }
                    ],
                    "histogram2d": [
                      {
                        "colorbar": {
                          "outlinewidth": 0,
                          "ticks": ""
                        },
                        "type": "histogram2d",
                        "colorscale": [
                          [
                            0,
                            "#0d0887"
                          ],
                          [
                            0.1111111111111111,
                            "#46039f"
                          ],
                          [
                            0.2222222222222222,
                            "#7201a8"
                          ],
                          [
                            0.3333333333333333,
                            "#9c179e"
                          ],
                          [
                            0.4444444444444444,
                            "#bd3786"
                          ],
                          [
                            0.5555555555555556,
                            "#d8576b"
                          ],
                          [
                            0.6666666666666666,
                            "#ed7953"
                          ],
                          [
                            0.7777777777777778,
                            "#fb9f3a"
                          ],
                          [
                            0.8888888888888888,
                            "#fdca26"
                          ],
                          [
                            1,
                            "#f0f921"
                          ]
                        ]
                      }
                    ],
                    "scattergeo": [
                      {
                        "marker": {
                          "colorbar": {
                            "outlinewidth": 0,
                            "ticks": ""
                          }
                        },
                        "type": "scattergeo"
                      }
                    ],
                    "bar": [
                      {
                        "marker": {
                          "line": {
                            "color": "#E5ECF6",
                            "width": 0.5
                          }
                        },
                        "type": "bar",
                        "error_x": {
                          "color": "#2a3f5f"
                        },
                        "error_y": {
                          "color": "#2a3f5f"
                        }
                      }
                    ],
                    "choropleth": [
                      {
                        "colorbar": {
                          "outlinewidth": 0,
                          "ticks": ""
                        },
                        "type": "choropleth"
                      }
                    ],
                    "parcoords": [
                      {
                        "line": {
                          "colorbar": {
                            "outlinewidth": 0,
                            "ticks": ""
                          }
                        },
                        "type": "parcoords"
                      }
                    ],
                    "barpolar": [
                      {
                        "marker": {
                          "line": {
                            "color": "#E5ECF6",
                            "width": 0.5
                          }
                        },
                        "type": "barpolar"
                      }
                    ],
                    "histogram2dcontour": [
                      {
                        "colorbar": {
                          "outlinewidth": 0,
                          "ticks": ""
                        },
                        "type": "histogram2dcontour",
                        "colorscale": [
                          [
                            0,
                            "#0d0887"
                          ],
                          [
                            0.1111111111111111,
                            "#46039f"
                          ],
                          [
                            0.2222222222222222,
                            "#7201a8"
                          ],
                          [
                            0.3333333333333333,
                            "#9c179e"
                          ],
                          [
                            0.4444444444444444,
                            "#bd3786"
                          ],
                          [
                            0.5555555555555556,
                            "#d8576b"
                          ],
                          [
                            0.6666666666666666,
                            "#ed7953"
                          ],
                          [
                            0.7777777777777778,
                            "#fb9f3a"
                          ],
                          [
                            0.8888888888888888,
                            "#fdca26"
                          ],
                          [
                            1,
                            "#f0f921"
                          ]
                        ]
                      }
                    ],
                    "scatter": [
                      {
                        "marker": {
                          "colorbar": {
                            "outlinewidth": 0,
                            "ticks": ""
                          }
                        },
                        "type": "scatter"
                      }
                    ]
                  }
                },
                "title": {
                  "text": "Top 50 (Uncleaned) Word frequencies in the training dataset"
                }
              }
            }
          },
          "metadata": {
            "tags": []
          }
        },
        {
          "output_type": "display_data",
          "data": {
            "text/html": [
              "<div>\n",
              "        \n",
              "        \n",
              "            <div id=\"48b75d04-8d0e-4e28-ae85-c577b1ea36fe\" class=\"plotly-graph-div\" style=\"height:525px; width:100%;\"></div>\n",
              "            <script type=\"text/javascript\">\n",
              "                require([\"plotly\"], function(Plotly) {\n",
              "                    window.PLOTLYENV=window.PLOTLYENV || {};\n",
              "                    \n",
              "                if (document.getElementById(\"48b75d04-8d0e-4e28-ae85-c577b1ea36fe\")) {\n",
              "                    Plotly.newPlot(\n",
              "                        '48b75d04-8d0e-4e28-ae85-c577b1ea36fe',\n",
              "                        [{\"marker\": {\"color\": [301914, 283620, 261848, 203049, 169978, 132498, 126811, 113722, 107899, 100974, 92657, 83128, 82565, 80914, 67317, 66280, 61192, 60754, 56513, 54272, 54197, 54008, 52135, 50696, 50538, 42421, 42288, 42113, 41329, 41076, 37875, 37207, 36027, 35269, 35201, 32420, 32384, 32336, 32219, 32035, 29942, 28676, 28052, 25793, 25410, 24329, 23578, 23319, 22748, 22581, 22008, 21975, 21694, 21475, 21321, 21304, 21191, 20979, 20949, 20859, 20703, 20552, 20362, 20356, 19949, 19043, 18980, 18201, 18153, 17883, 17515, 17331, 16938, 16827, 16439, 16370, 15744, 15505, 15307, 15190, 15165, 14859, 14772, 14754, 14689, 14607, 14412, 14385, 14385, 14335, 14283, 14199, 13953, 13418, 13082, 12845, 12497, 12290], \"colorscale\": [[0.0, \"rgb(0,0,131)\"], [0.2, \"rgb(0,60,170)\"], [0.4, \"rgb(5,255,255)\"], [0.6, \"rgb(255,255,0)\"], [0.8, \"rgb(250,0,0)\"], [1.0, \"rgb(128,0,0)\"]]}, \"text\": \"Word counts\", \"type\": \"bar\", \"x\": [\"and\", \"of\", \"to\", \"is\", \"in\", \"I\", \"that\", \"this\", \"it\", \"/><br\", \"was\", \"as\", \"with\", \"for\", \"The\", \"but\", \"on\", \"movie\", \"are\", \"film\", \"his\", \"have\", \"not\", \"you\", \"be\", \"at\", \"by\", \"he\", \"one\", \"an\", \"from\", \"who\", \"like\", \"all\", \"they\", \"has\", \"so\", \"just\", \"or\", \"about\", \"her\", \"out\", \"some\", \"very\", \"more\", \"This\", \"would\", \"what\"], \"y\": [301914, 283620, 261848, 203049, 169978, 132498, 126811, 113722, 107899, 100974, 92657, 83128, 82565, 80914, 67317, 66280, 61192, 60754, 56513, 54272, 54197, 54008, 52135, 50696, 50538, 42421, 42288, 42113, 41329, 41076, 37875, 37207, 36027, 35269, 35201, 32420, 32384, 32336, 32219, 32035, 29942, 28676, 28052, 25793, 25410, 24329, 23578, 23319]}],\n",
              "                        {\"template\": {\"data\": {\"bar\": [{\"error_x\": {\"color\": \"#2a3f5f\"}, \"error_y\": {\"color\": \"#2a3f5f\"}, \"marker\": {\"line\": {\"color\": \"#E5ECF6\", \"width\": 0.5}}, \"type\": \"bar\"}], \"barpolar\": [{\"marker\": {\"line\": {\"color\": \"#E5ECF6\", \"width\": 0.5}}, \"type\": \"barpolar\"}], \"carpet\": [{\"aaxis\": {\"endlinecolor\": \"#2a3f5f\", \"gridcolor\": \"white\", \"linecolor\": \"white\", \"minorgridcolor\": \"white\", \"startlinecolor\": \"#2a3f5f\"}, \"baxis\": {\"endlinecolor\": \"#2a3f5f\", \"gridcolor\": \"white\", \"linecolor\": \"white\", \"minorgridcolor\": \"white\", \"startlinecolor\": \"#2a3f5f\"}, \"type\": \"carpet\"}], \"choropleth\": [{\"colorbar\": {\"outlinewidth\": 0, \"ticks\": \"\"}, \"type\": \"choropleth\"}], \"contour\": [{\"colorbar\": {\"outlinewidth\": 0, \"ticks\": \"\"}, \"colorscale\": [[0.0, \"#0d0887\"], [0.1111111111111111, \"#46039f\"], [0.2222222222222222, \"#7201a8\"], [0.3333333333333333, \"#9c179e\"], [0.4444444444444444, \"#bd3786\"], [0.5555555555555556, \"#d8576b\"], [0.6666666666666666, \"#ed7953\"], [0.7777777777777778, \"#fb9f3a\"], [0.8888888888888888, \"#fdca26\"], [1.0, \"#f0f921\"]], \"type\": \"contour\"}], \"contourcarpet\": [{\"colorbar\": {\"outlinewidth\": 0, \"ticks\": \"\"}, \"type\": \"contourcarpet\"}], \"heatmap\": [{\"colorbar\": {\"outlinewidth\": 0, \"ticks\": \"\"}, \"colorscale\": [[0.0, \"#0d0887\"], [0.1111111111111111, \"#46039f\"], [0.2222222222222222, \"#7201a8\"], [0.3333333333333333, \"#9c179e\"], [0.4444444444444444, \"#bd3786\"], [0.5555555555555556, \"#d8576b\"], [0.6666666666666666, \"#ed7953\"], [0.7777777777777778, \"#fb9f3a\"], [0.8888888888888888, \"#fdca26\"], [1.0, \"#f0f921\"]], \"type\": \"heatmap\"}], \"heatmapgl\": [{\"colorbar\": {\"outlinewidth\": 0, \"ticks\": \"\"}, \"colorscale\": [[0.0, \"#0d0887\"], [0.1111111111111111, \"#46039f\"], [0.2222222222222222, \"#7201a8\"], [0.3333333333333333, \"#9c179e\"], [0.4444444444444444, \"#bd3786\"], [0.5555555555555556, \"#d8576b\"], [0.6666666666666666, \"#ed7953\"], [0.7777777777777778, \"#fb9f3a\"], [0.8888888888888888, \"#fdca26\"], [1.0, \"#f0f921\"]], \"type\": \"heatmapgl\"}], \"histogram\": [{\"marker\": {\"colorbar\": {\"outlinewidth\": 0, \"ticks\": \"\"}}, \"type\": \"histogram\"}], \"histogram2d\": [{\"colorbar\": {\"outlinewidth\": 0, \"ticks\": \"\"}, \"colorscale\": [[0.0, \"#0d0887\"], [0.1111111111111111, \"#46039f\"], [0.2222222222222222, \"#7201a8\"], [0.3333333333333333, \"#9c179e\"], [0.4444444444444444, \"#bd3786\"], [0.5555555555555556, \"#d8576b\"], [0.6666666666666666, \"#ed7953\"], [0.7777777777777778, \"#fb9f3a\"], [0.8888888888888888, \"#fdca26\"], [1.0, \"#f0f921\"]], \"type\": \"histogram2d\"}], \"histogram2dcontour\": [{\"colorbar\": {\"outlinewidth\": 0, \"ticks\": \"\"}, \"colorscale\": [[0.0, \"#0d0887\"], [0.1111111111111111, \"#46039f\"], [0.2222222222222222, \"#7201a8\"], [0.3333333333333333, \"#9c179e\"], [0.4444444444444444, \"#bd3786\"], [0.5555555555555556, \"#d8576b\"], [0.6666666666666666, \"#ed7953\"], [0.7777777777777778, \"#fb9f3a\"], [0.8888888888888888, \"#fdca26\"], [1.0, \"#f0f921\"]], \"type\": \"histogram2dcontour\"}], \"mesh3d\": [{\"colorbar\": {\"outlinewidth\": 0, \"ticks\": \"\"}, \"type\": \"mesh3d\"}], \"parcoords\": [{\"line\": {\"colorbar\": {\"outlinewidth\": 0, \"ticks\": \"\"}}, \"type\": \"parcoords\"}], \"scatter\": [{\"marker\": {\"colorbar\": {\"outlinewidth\": 0, \"ticks\": \"\"}}, \"type\": \"scatter\"}], \"scatter3d\": [{\"line\": {\"colorbar\": {\"outlinewidth\": 0, \"ticks\": \"\"}}, \"marker\": {\"colorbar\": {\"outlinewidth\": 0, \"ticks\": \"\"}}, \"type\": \"scatter3d\"}], \"scattercarpet\": [{\"marker\": {\"colorbar\": {\"outlinewidth\": 0, \"ticks\": \"\"}}, \"type\": \"scattercarpet\"}], \"scattergeo\": [{\"marker\": {\"colorbar\": {\"outlinewidth\": 0, \"ticks\": \"\"}}, \"type\": \"scattergeo\"}], \"scattergl\": [{\"marker\": {\"colorbar\": {\"outlinewidth\": 0, \"ticks\": \"\"}}, \"type\": \"scattergl\"}], \"scattermapbox\": [{\"marker\": {\"colorbar\": {\"outlinewidth\": 0, \"ticks\": \"\"}}, \"type\": \"scattermapbox\"}], \"scatterpolar\": [{\"marker\": {\"colorbar\": {\"outlinewidth\": 0, \"ticks\": \"\"}}, \"type\": \"scatterpolar\"}], \"scatterpolargl\": [{\"marker\": {\"colorbar\": {\"outlinewidth\": 0, \"ticks\": \"\"}}, \"type\": \"scatterpolargl\"}], \"scatterternary\": [{\"marker\": {\"colorbar\": {\"outlinewidth\": 0, \"ticks\": \"\"}}, \"type\": \"scatterternary\"}], \"surface\": [{\"colorbar\": {\"outlinewidth\": 0, \"ticks\": \"\"}, \"colorscale\": [[0.0, \"#0d0887\"], [0.1111111111111111, \"#46039f\"], [0.2222222222222222, \"#7201a8\"], [0.3333333333333333, \"#9c179e\"], [0.4444444444444444, \"#bd3786\"], [0.5555555555555556, \"#d8576b\"], [0.6666666666666666, \"#ed7953\"], [0.7777777777777778, \"#fb9f3a\"], [0.8888888888888888, \"#fdca26\"], [1.0, \"#f0f921\"]], \"type\": \"surface\"}], \"table\": [{\"cells\": {\"fill\": {\"color\": \"#EBF0F8\"}, \"line\": {\"color\": \"white\"}}, \"header\": {\"fill\": {\"color\": \"#C8D4E3\"}, \"line\": {\"color\": \"white\"}}, \"type\": \"table\"}]}, \"layout\": {\"annotationdefaults\": {\"arrowcolor\": \"#2a3f5f\", \"arrowhead\": 0, \"arrowwidth\": 1}, \"colorscale\": {\"diverging\": [[0, \"#8e0152\"], [0.1, \"#c51b7d\"], [0.2, \"#de77ae\"], [0.3, \"#f1b6da\"], [0.4, \"#fde0ef\"], [0.5, \"#f7f7f7\"], [0.6, \"#e6f5d0\"], [0.7, \"#b8e186\"], [0.8, \"#7fbc41\"], [0.9, \"#4d9221\"], [1, \"#276419\"]], \"sequential\": [[0.0, \"#0d0887\"], [0.1111111111111111, \"#46039f\"], [0.2222222222222222, \"#7201a8\"], [0.3333333333333333, \"#9c179e\"], [0.4444444444444444, \"#bd3786\"], [0.5555555555555556, \"#d8576b\"], [0.6666666666666666, \"#ed7953\"], [0.7777777777777778, \"#fb9f3a\"], [0.8888888888888888, \"#fdca26\"], [1.0, \"#f0f921\"]], \"sequentialminus\": [[0.0, \"#0d0887\"], [0.1111111111111111, \"#46039f\"], [0.2222222222222222, \"#7201a8\"], [0.3333333333333333, \"#9c179e\"], [0.4444444444444444, \"#bd3786\"], [0.5555555555555556, \"#d8576b\"], [0.6666666666666666, \"#ed7953\"], [0.7777777777777778, \"#fb9f3a\"], [0.8888888888888888, \"#fdca26\"], [1.0, \"#f0f921\"]]}, \"colorway\": [\"#636efa\", \"#EF553B\", \"#00cc96\", \"#ab63fa\", \"#FFA15A\", \"#19d3f3\", \"#FF6692\", \"#B6E880\", \"#FF97FF\", \"#FECB52\"], \"font\": {\"color\": \"#2a3f5f\"}, \"geo\": {\"bgcolor\": \"white\", \"lakecolor\": \"white\", \"landcolor\": \"#E5ECF6\", \"showlakes\": true, \"showland\": true, \"subunitcolor\": \"white\"}, \"hoverlabel\": {\"align\": \"left\"}, \"hovermode\": \"closest\", \"mapbox\": {\"style\": \"light\"}, \"paper_bgcolor\": \"white\", \"plot_bgcolor\": \"#E5ECF6\", \"polar\": {\"angularaxis\": {\"gridcolor\": \"white\", \"linecolor\": \"white\", \"ticks\": \"\"}, \"bgcolor\": \"#E5ECF6\", \"radialaxis\": {\"gridcolor\": \"white\", \"linecolor\": \"white\", \"ticks\": \"\"}}, \"scene\": {\"xaxis\": {\"backgroundcolor\": \"#E5ECF6\", \"gridcolor\": \"white\", \"gridwidth\": 2, \"linecolor\": \"white\", \"showbackground\": true, \"ticks\": \"\", \"zerolinecolor\": \"white\"}, \"yaxis\": {\"backgroundcolor\": \"#E5ECF6\", \"gridcolor\": \"white\", \"gridwidth\": 2, \"linecolor\": \"white\", \"showbackground\": true, \"ticks\": \"\", \"zerolinecolor\": \"white\"}, \"zaxis\": {\"backgroundcolor\": \"#E5ECF6\", \"gridcolor\": \"white\", \"gridwidth\": 2, \"linecolor\": \"white\", \"showbackground\": true, \"ticks\": \"\", \"zerolinecolor\": \"white\"}}, \"shapedefaults\": {\"line\": {\"color\": \"#2a3f5f\"}}, \"ternary\": {\"aaxis\": {\"gridcolor\": \"white\", \"linecolor\": \"white\", \"ticks\": \"\"}, \"baxis\": {\"gridcolor\": \"white\", \"linecolor\": \"white\", \"ticks\": \"\"}, \"bgcolor\": \"#E5ECF6\", \"caxis\": {\"gridcolor\": \"white\", \"linecolor\": \"white\", \"ticks\": \"\"}}, \"title\": {\"x\": 0.05}, \"xaxis\": {\"automargin\": true, \"gridcolor\": \"white\", \"linecolor\": \"white\", \"ticks\": \"\", \"zerolinecolor\": \"white\", \"zerolinewidth\": 2}, \"yaxis\": {\"automargin\": true, \"gridcolor\": \"white\", \"linecolor\": \"white\", \"ticks\": \"\", \"zerolinecolor\": \"white\", \"zerolinewidth\": 2}}}, \"title\": {\"text\": \"Top 50 (Uncleaned) Word frequencies in the training dataset\"}},\n",
              "                        {\"responsive\": true}\n",
              "                    ).then(function(){\n",
              "                            \n",
              "var gd = document.getElementById('48b75d04-8d0e-4e28-ae85-c577b1ea36fe');\n",
              "var x = new MutationObserver(function (mutations, observer) {{\n",
              "        var display = window.getComputedStyle(gd).display;\n",
              "        if (!display || display === 'none') {{\n",
              "            console.log([gd, 'removed!']);\n",
              "            Plotly.purge(gd);\n",
              "            observer.disconnect();\n",
              "        }}\n",
              "}});\n",
              "\n",
              "// Listen for the removal of the full notebook cells\n",
              "var notebookContainer = gd.closest('#notebook-container');\n",
              "if (notebookContainer) {{\n",
              "    x.observe(notebookContainer, {childList: true});\n",
              "}}\n",
              "\n",
              "// Listen for the clearing of the current output cell\n",
              "var outputEl = gd.closest('.output');\n",
              "if (outputEl) {{\n",
              "    x.observe(outputEl, {childList: true});\n",
              "}}\n",
              "\n",
              "                        })\n",
              "                };\n",
              "                });\n",
              "            </script>\n",
              "        </div>"
            ],
            "application/vnd.plotly.v1+json": {
              "data": [
                {
                  "marker": {
                    "color": [
                      301914,
                      283620,
                      261848,
                      203049,
                      169978,
                      132498,
                      126811,
                      113722,
                      107899,
                      100974,
                      92657,
                      83128,
                      82565,
                      80914,
                      67317,
                      66280,
                      61192,
                      60754,
                      56513,
                      54272,
                      54197,
                      54008,
                      52135,
                      50696,
                      50538,
                      42421,
                      42288,
                      42113,
                      41329,
                      41076,
                      37875,
                      37207,
                      36027,
                      35269,
                      35201,
                      32420,
                      32384,
                      32336,
                      32219,
                      32035,
                      29942,
                      28676,
                      28052,
                      25793,
                      25410,
                      24329,
                      23578,
                      23319,
                      22748,
                      22581,
                      22008,
                      21975,
                      21694,
                      21475,
                      21321,
                      21304,
                      21191,
                      20979,
                      20949,
                      20859,
                      20703,
                      20552,
                      20362,
                      20356,
                      19949,
                      19043,
                      18980,
                      18201,
                      18153,
                      17883,
                      17515,
                      17331,
                      16938,
                      16827,
                      16439,
                      16370,
                      15744,
                      15505,
                      15307,
                      15190,
                      15165,
                      14859,
                      14772,
                      14754,
                      14689,
                      14607,
                      14412,
                      14385,
                      14385,
                      14335,
                      14283,
                      14199,
                      13953,
                      13418,
                      13082,
                      12845,
                      12497,
                      12290
                    ],
                    "colorscale": [
                      [
                        0,
                        "rgb(0,0,131)"
                      ],
                      [
                        0.2,
                        "rgb(0,60,170)"
                      ],
                      [
                        0.4,
                        "rgb(5,255,255)"
                      ],
                      [
                        0.6,
                        "rgb(255,255,0)"
                      ],
                      [
                        0.8,
                        "rgb(250,0,0)"
                      ],
                      [
                        1,
                        "rgb(128,0,0)"
                      ]
                    ]
                  },
                  "text": "Word counts",
                  "type": "bar",
                  "y": [
                    301914,
                    283620,
                    261848,
                    203049,
                    169978,
                    132498,
                    126811,
                    113722,
                    107899,
                    100974,
                    92657,
                    83128,
                    82565,
                    80914,
                    67317,
                    66280,
                    61192,
                    60754,
                    56513,
                    54272,
                    54197,
                    54008,
                    52135,
                    50696,
                    50538,
                    42421,
                    42288,
                    42113,
                    41329,
                    41076,
                    37875,
                    37207,
                    36027,
                    35269,
                    35201,
                    32420,
                    32384,
                    32336,
                    32219,
                    32035,
                    29942,
                    28676,
                    28052,
                    25793,
                    25410,
                    24329,
                    23578,
                    23319
                  ],
                  "x": [
                    "and",
                    "of",
                    "to",
                    "is",
                    "in",
                    "I",
                    "that",
                    "this",
                    "it",
                    "/><br",
                    "was",
                    "as",
                    "with",
                    "for",
                    "The",
                    "but",
                    "on",
                    "movie",
                    "are",
                    "film",
                    "his",
                    "have",
                    "not",
                    "you",
                    "be",
                    "at",
                    "by",
                    "he",
                    "one",
                    "an",
                    "from",
                    "who",
                    "like",
                    "all",
                    "they",
                    "has",
                    "so",
                    "just",
                    "or",
                    "about",
                    "her",
                    "out",
                    "some",
                    "very",
                    "more",
                    "This",
                    "would",
                    "what"
                  ]
                }
              ],
              "config": {
                "plotlyServerURL": "https://plot.ly"
              },
              "layout": {
                "template": {
                  "layout": {
                    "shapedefaults": {
                      "line": {
                        "color": "#2a3f5f"
                      }
                    },
                    "polar": {
                      "radialaxis": {
                        "ticks": "",
                        "gridcolor": "white",
                        "linecolor": "white"
                      },
                      "bgcolor": "#E5ECF6",
                      "angularaxis": {
                        "ticks": "",
                        "gridcolor": "white",
                        "linecolor": "white"
                      }
                    },
                    "colorway": [
                      "#636efa",
                      "#EF553B",
                      "#00cc96",
                      "#ab63fa",
                      "#FFA15A",
                      "#19d3f3",
                      "#FF6692",
                      "#B6E880",
                      "#FF97FF",
                      "#FECB52"
                    ],
                    "xaxis": {
                      "automargin": true,
                      "zerolinewidth": 2,
                      "ticks": "",
                      "zerolinecolor": "white",
                      "gridcolor": "white",
                      "linecolor": "white"
                    },
                    "colorscale": {
                      "diverging": [
                        [
                          0,
                          "#8e0152"
                        ],
                        [
                          0.1,
                          "#c51b7d"
                        ],
                        [
                          0.2,
                          "#de77ae"
                        ],
                        [
                          0.3,
                          "#f1b6da"
                        ],
                        [
                          0.4,
                          "#fde0ef"
                        ],
                        [
                          0.5,
                          "#f7f7f7"
                        ],
                        [
                          0.6,
                          "#e6f5d0"
                        ],
                        [
                          0.7,
                          "#b8e186"
                        ],
                        [
                          0.8,
                          "#7fbc41"
                        ],
                        [
                          0.9,
                          "#4d9221"
                        ],
                        [
                          1,
                          "#276419"
                        ]
                      ],
                      "sequential": [
                        [
                          0,
                          "#0d0887"
                        ],
                        [
                          0.1111111111111111,
                          "#46039f"
                        ],
                        [
                          0.2222222222222222,
                          "#7201a8"
                        ],
                        [
                          0.3333333333333333,
                          "#9c179e"
                        ],
                        [
                          0.4444444444444444,
                          "#bd3786"
                        ],
                        [
                          0.5555555555555556,
                          "#d8576b"
                        ],
                        [
                          0.6666666666666666,
                          "#ed7953"
                        ],
                        [
                          0.7777777777777778,
                          "#fb9f3a"
                        ],
                        [
                          0.8888888888888888,
                          "#fdca26"
                        ],
                        [
                          1,
                          "#f0f921"
                        ]
                      ],
                      "sequentialminus": [
                        [
                          0,
                          "#0d0887"
                        ],
                        [
                          0.1111111111111111,
                          "#46039f"
                        ],
                        [
                          0.2222222222222222,
                          "#7201a8"
                        ],
                        [
                          0.3333333333333333,
                          "#9c179e"
                        ],
                        [
                          0.4444444444444444,
                          "#bd3786"
                        ],
                        [
                          0.5555555555555556,
                          "#d8576b"
                        ],
                        [
                          0.6666666666666666,
                          "#ed7953"
                        ],
                        [
                          0.7777777777777778,
                          "#fb9f3a"
                        ],
                        [
                          0.8888888888888888,
                          "#fdca26"
                        ],
                        [
                          1,
                          "#f0f921"
                        ]
                      ]
                    },
                    "paper_bgcolor": "white",
                    "plot_bgcolor": "#E5ECF6",
                    "title": {
                      "x": 0.05
                    },
                    "scene": {
                      "zaxis": {
                        "backgroundcolor": "#E5ECF6",
                        "ticks": "",
                        "gridwidth": 2,
                        "showbackground": true,
                        "zerolinecolor": "white",
                        "gridcolor": "white",
                        "linecolor": "white"
                      },
                      "xaxis": {
                        "backgroundcolor": "#E5ECF6",
                        "ticks": "",
                        "gridwidth": 2,
                        "showbackground": true,
                        "zerolinecolor": "white",
                        "gridcolor": "white",
                        "linecolor": "white"
                      },
                      "yaxis": {
                        "backgroundcolor": "#E5ECF6",
                        "ticks": "",
                        "gridwidth": 2,
                        "showbackground": true,
                        "zerolinecolor": "white",
                        "gridcolor": "white",
                        "linecolor": "white"
                      }
                    },
                    "yaxis": {
                      "automargin": true,
                      "zerolinewidth": 2,
                      "ticks": "",
                      "zerolinecolor": "white",
                      "gridcolor": "white",
                      "linecolor": "white"
                    },
                    "hoverlabel": {
                      "align": "left"
                    },
                    "ternary": {
                      "bgcolor": "#E5ECF6",
                      "baxis": {
                        "ticks": "",
                        "gridcolor": "white",
                        "linecolor": "white"
                      },
                      "caxis": {
                        "ticks": "",
                        "gridcolor": "white",
                        "linecolor": "white"
                      },
                      "aaxis": {
                        "ticks": "",
                        "gridcolor": "white",
                        "linecolor": "white"
                      }
                    },
                    "mapbox": {
                      "style": "light"
                    },
                    "hovermode": "closest",
                    "font": {
                      "color": "#2a3f5f"
                    },
                    "geo": {
                      "showland": true,
                      "landcolor": "#E5ECF6",
                      "showlakes": true,
                      "bgcolor": "white",
                      "subunitcolor": "white",
                      "lakecolor": "white"
                    },
                    "annotationdefaults": {
                      "arrowwidth": 1,
                      "arrowhead": 0,
                      "arrowcolor": "#2a3f5f"
                    }
                  },
                  "data": {
                    "mesh3d": [
                      {
                        "colorbar": {
                          "outlinewidth": 0,
                          "ticks": ""
                        },
                        "type": "mesh3d"
                      }
                    ],
                    "scattercarpet": [
                      {
                        "marker": {
                          "colorbar": {
                            "outlinewidth": 0,
                            "ticks": ""
                          }
                        },
                        "type": "scattercarpet"
                      }
                    ],
                    "scatterternary": [
                      {
                        "marker": {
                          "colorbar": {
                            "outlinewidth": 0,
                            "ticks": ""
                          }
                        },
                        "type": "scatterternary"
                      }
                    ],
                    "surface": [
                      {
                        "colorbar": {
                          "outlinewidth": 0,
                          "ticks": ""
                        },
                        "type": "surface",
                        "colorscale": [
                          [
                            0,
                            "#0d0887"
                          ],
                          [
                            0.1111111111111111,
                            "#46039f"
                          ],
                          [
                            0.2222222222222222,
                            "#7201a8"
                          ],
                          [
                            0.3333333333333333,
                            "#9c179e"
                          ],
                          [
                            0.4444444444444444,
                            "#bd3786"
                          ],
                          [
                            0.5555555555555556,
                            "#d8576b"
                          ],
                          [
                            0.6666666666666666,
                            "#ed7953"
                          ],
                          [
                            0.7777777777777778,
                            "#fb9f3a"
                          ],
                          [
                            0.8888888888888888,
                            "#fdca26"
                          ],
                          [
                            1,
                            "#f0f921"
                          ]
                        ]
                      }
                    ],
                    "table": [
                      {
                        "header": {
                          "line": {
                            "color": "white"
                          },
                          "fill": {
                            "color": "#C8D4E3"
                          }
                        },
                        "cells": {
                          "line": {
                            "color": "white"
                          },
                          "fill": {
                            "color": "#EBF0F8"
                          }
                        },
                        "type": "table"
                      }
                    ],
                    "scatterpolargl": [
                      {
                        "marker": {
                          "colorbar": {
                            "outlinewidth": 0,
                            "ticks": ""
                          }
                        },
                        "type": "scatterpolargl"
                      }
                    ],
                    "contour": [
                      {
                        "colorbar": {
                          "outlinewidth": 0,
                          "ticks": ""
                        },
                        "type": "contour",
                        "colorscale": [
                          [
                            0,
                            "#0d0887"
                          ],
                          [
                            0.1111111111111111,
                            "#46039f"
                          ],
                          [
                            0.2222222222222222,
                            "#7201a8"
                          ],
                          [
                            0.3333333333333333,
                            "#9c179e"
                          ],
                          [
                            0.4444444444444444,
                            "#bd3786"
                          ],
                          [
                            0.5555555555555556,
                            "#d8576b"
                          ],
                          [
                            0.6666666666666666,
                            "#ed7953"
                          ],
                          [
                            0.7777777777777778,
                            "#fb9f3a"
                          ],
                          [
                            0.8888888888888888,
                            "#fdca26"
                          ],
                          [
                            1,
                            "#f0f921"
                          ]
                        ]
                      }
                    ],
                    "carpet": [
                      {
                        "type": "carpet",
                        "baxis": {
                          "minorgridcolor": "white",
                          "gridcolor": "white",
                          "linecolor": "white",
                          "endlinecolor": "#2a3f5f",
                          "startlinecolor": "#2a3f5f"
                        },
                        "aaxis": {
                          "minorgridcolor": "white",
                          "gridcolor": "white",
                          "linecolor": "white",
                          "endlinecolor": "#2a3f5f",
                          "startlinecolor": "#2a3f5f"
                        }
                      }
                    ],
                    "contourcarpet": [
                      {
                        "colorbar": {
                          "outlinewidth": 0,
                          "ticks": ""
                        },
                        "type": "contourcarpet"
                      }
                    ],
                    "heatmap": [
                      {
                        "colorbar": {
                          "outlinewidth": 0,
                          "ticks": ""
                        },
                        "type": "heatmap",
                        "colorscale": [
                          [
                            0,
                            "#0d0887"
                          ],
                          [
                            0.1111111111111111,
                            "#46039f"
                          ],
                          [
                            0.2222222222222222,
                            "#7201a8"
                          ],
                          [
                            0.3333333333333333,
                            "#9c179e"
                          ],
                          [
                            0.4444444444444444,
                            "#bd3786"
                          ],
                          [
                            0.5555555555555556,
                            "#d8576b"
                          ],
                          [
                            0.6666666666666666,
                            "#ed7953"
                          ],
                          [
                            0.7777777777777778,
                            "#fb9f3a"
                          ],
                          [
                            0.8888888888888888,
                            "#fdca26"
                          ],
                          [
                            1,
                            "#f0f921"
                          ]
                        ]
                      }
                    ],
                    "scattermapbox": [
                      {
                        "marker": {
                          "colorbar": {
                            "outlinewidth": 0,
                            "ticks": ""
                          }
                        },
                        "type": "scattermapbox"
                      }
                    ],
                    "scatter3d": [
                      {
                        "marker": {
                          "colorbar": {
                            "outlinewidth": 0,
                            "ticks": ""
                          }
                        },
                        "line": {
                          "colorbar": {
                            "outlinewidth": 0,
                            "ticks": ""
                          }
                        },
                        "type": "scatter3d"
                      }
                    ],
                    "scattergl": [
                      {
                        "marker": {
                          "colorbar": {
                            "outlinewidth": 0,
                            "ticks": ""
                          }
                        },
                        "type": "scattergl"
                      }
                    ],
                    "histogram": [
                      {
                        "marker": {
                          "colorbar": {
                            "outlinewidth": 0,
                            "ticks": ""
                          }
                        },
                        "type": "histogram"
                      }
                    ],
                    "heatmapgl": [
                      {
                        "colorbar": {
                          "outlinewidth": 0,
                          "ticks": ""
                        },
                        "type": "heatmapgl",
                        "colorscale": [
                          [
                            0,
                            "#0d0887"
                          ],
                          [
                            0.1111111111111111,
                            "#46039f"
                          ],
                          [
                            0.2222222222222222,
                            "#7201a8"
                          ],
                          [
                            0.3333333333333333,
                            "#9c179e"
                          ],
                          [
                            0.4444444444444444,
                            "#bd3786"
                          ],
                          [
                            0.5555555555555556,
                            "#d8576b"
                          ],
                          [
                            0.6666666666666666,
                            "#ed7953"
                          ],
                          [
                            0.7777777777777778,
                            "#fb9f3a"
                          ],
                          [
                            0.8888888888888888,
                            "#fdca26"
                          ],
                          [
                            1,
                            "#f0f921"
                          ]
                        ]
                      }
                    ],
                    "scatterpolar": [
                      {
                        "marker": {
                          "colorbar": {
                            "outlinewidth": 0,
                            "ticks": ""
                          }
                        },
                        "type": "scatterpolar"
                      }
                    ],
                    "histogram2d": [
                      {
                        "colorbar": {
                          "outlinewidth": 0,
                          "ticks": ""
                        },
                        "type": "histogram2d",
                        "colorscale": [
                          [
                            0,
                            "#0d0887"
                          ],
                          [
                            0.1111111111111111,
                            "#46039f"
                          ],
                          [
                            0.2222222222222222,
                            "#7201a8"
                          ],
                          [
                            0.3333333333333333,
                            "#9c179e"
                          ],
                          [
                            0.4444444444444444,
                            "#bd3786"
                          ],
                          [
                            0.5555555555555556,
                            "#d8576b"
                          ],
                          [
                            0.6666666666666666,
                            "#ed7953"
                          ],
                          [
                            0.7777777777777778,
                            "#fb9f3a"
                          ],
                          [
                            0.8888888888888888,
                            "#fdca26"
                          ],
                          [
                            1,
                            "#f0f921"
                          ]
                        ]
                      }
                    ],
                    "scattergeo": [
                      {
                        "marker": {
                          "colorbar": {
                            "outlinewidth": 0,
                            "ticks": ""
                          }
                        },
                        "type": "scattergeo"
                      }
                    ],
                    "bar": [
                      {
                        "marker": {
                          "line": {
                            "color": "#E5ECF6",
                            "width": 0.5
                          }
                        },
                        "type": "bar",
                        "error_x": {
                          "color": "#2a3f5f"
                        },
                        "error_y": {
                          "color": "#2a3f5f"
                        }
                      }
                    ],
                    "choropleth": [
                      {
                        "colorbar": {
                          "outlinewidth": 0,
                          "ticks": ""
                        },
                        "type": "choropleth"
                      }
                    ],
                    "parcoords": [
                      {
                        "line": {
                          "colorbar": {
                            "outlinewidth": 0,
                            "ticks": ""
                          }
                        },
                        "type": "parcoords"
                      }
                    ],
                    "barpolar": [
                      {
                        "marker": {
                          "line": {
                            "color": "#E5ECF6",
                            "width": 0.5
                          }
                        },
                        "type": "barpolar"
                      }
                    ],
                    "histogram2dcontour": [
                      {
                        "colorbar": {
                          "outlinewidth": 0,
                          "ticks": ""
                        },
                        "type": "histogram2dcontour",
                        "colorscale": [
                          [
                            0,
                            "#0d0887"
                          ],
                          [
                            0.1111111111111111,
                            "#46039f"
                          ],
                          [
                            0.2222222222222222,
                            "#7201a8"
                          ],
                          [
                            0.3333333333333333,
                            "#9c179e"
                          ],
                          [
                            0.4444444444444444,
                            "#bd3786"
                          ],
                          [
                            0.5555555555555556,
                            "#d8576b"
                          ],
                          [
                            0.6666666666666666,
                            "#ed7953"
                          ],
                          [
                            0.7777777777777778,
                            "#fb9f3a"
                          ],
                          [
                            0.8888888888888888,
                            "#fdca26"
                          ],
                          [
                            1,
                            "#f0f921"
                          ]
                        ]
                      }
                    ],
                    "scatter": [
                      {
                        "marker": {
                          "colorbar": {
                            "outlinewidth": 0,
                            "ticks": ""
                          }
                        },
                        "type": "scatter"
                      }
                    ]
                  }
                },
                "title": {
                  "text": "Top 50 (Uncleaned) Word frequencies in the training dataset"
                }
              }
            }
          },
          "metadata": {
            "tags": []
          }
        }
      ]
    },
    {
      "cell_type": "code",
      "metadata": {
        "id": "JSt4vYvlaZGK",
        "colab_type": "code",
        "colab": {}
      },
      "source": [
        "# Defining our y; the label\n",
        "# Since it is a strings we map it to numericals\n",
        "\n",
        "y = movies['sentiment']\n",
        "\n",
        "y = np.array(list(map(lambda x: 1 if x=='positive' else 0,y)))"
      ],
      "execution_count": 0,
      "outputs": []
    },
    {
      "cell_type": "code",
      "metadata": {
        "id": "jkp9ZRgKas2j",
        "colab_type": "code",
        "colab": {}
      },
      "source": [
        "print(X)"
      ],
      "execution_count": 0,
      "outputs": []
    },
    {
      "cell_type": "code",
      "metadata": {
        "id": "zrXlggInaZEI",
        "colab_type": "code",
        "colab": {}
      },
      "source": [
        "# Splitting our data into train and test sets\n",
        "# we will use 80% training set and 20% test set\n",
        "\n",
        "X_train, X_test,y_train,y_test = train_test_split(X,y, test_size=0.2, random_state=42)"
      ],
      "execution_count": 0,
      "outputs": []
    },
    {
      "cell_type": "code",
      "metadata": {
        "id": "W4UQAhpkoWxJ",
        "colab_type": "code",
        "colab": {}
      },
      "source": [
        "print(X)"
      ],
      "execution_count": 0,
      "outputs": []
    },
    {
      "cell_type": "code",
      "metadata": {
        "id": "5Fi63vmzoWrb",
        "colab_type": "code",
        "colab": {}
      },
      "source": [
        ""
      ],
      "execution_count": 0,
      "outputs": []
    },
    {
      "cell_type": "code",
      "metadata": {
        "id": "UT2j-s2GaY_6",
        "colab_type": "code",
        "colab": {}
      },
      "source": [
        "# Creating the embedding layer.\n",
        "# The embedding layer converts our textual data into numerical data.\n",
        "# It is used as the first layer for the deep learning models in keras.\n",
        "\n",
        "\n",
        "# The tokenizer module creates a word to index dictionary.\n",
        "# Each word is used as key while the corresponding unique index,\n",
        "# is used as the value for the key.\n",
        "\n",
        "tokenizer = Tokenizer(num_words=5000)\n",
        "tokenizer.fit_on_texts(X_train)\n",
        " \n",
        "X_train = tokenizer.texts_to_sequences(X_train)\n",
        "X_test = tokenizer.texts_to_sequences(X_test)"
      ],
      "execution_count": 0,
      "outputs": []
    },
    {
      "cell_type": "code",
      "metadata": {
        "id": "mrGqhFysaY91",
        "colab_type": "code",
        "colab": {}
      },
      "source": [
        "# viewing the converted words to numericals in the X_train\n",
        "X_train"
      ],
      "execution_count": 0,
      "outputs": []
    },
    {
      "cell_type": "markdown",
      "metadata": {
        "id": "xuyMspuqAgkP",
        "colab_type": "text"
      },
      "source": [
        "From the output;\n",
        "* Here we have 40,000 lists.\n",
        "* Each list contains integers.\n",
        "* Each list corrensponds to each sentence in the training set.\n",
        "* The size of each list is different as each sentence has different lengths.\n"
      ]
    },
    {
      "cell_type": "code",
      "metadata": {
        "id": "z4Y7uHv6EsZV",
        "colab_type": "code",
        "colab": {}
      },
      "source": [
        "# We will set a maximum size of each list to 100\n",
        "# The lists with > 100 will truncated.\n",
        "# Lists with < 100 will be added 0 till the maximum length.\n",
        "# This process is called padding\n",
        "\n",
        "# The code below will find the vocabulary size and then perfom Padding \n",
        "# on both X_train and X_test\n",
        "\n",
        "# tokenizer.word_index\n",
        "\n",
        "vocab_size  = len(tokenizer.word_index)+ 1\n",
        "\n",
        "maxlength = 100\n",
        "\n",
        "X_train = pad_sequences(X_train, padding=\"post\", maxlen=maxlength)\n",
        "X_test = pad_sequences(X_test, padding=\"post\", maxlen=maxlength)"
      ],
      "execution_count": 0,
      "outputs": []
    },
    {
      "cell_type": "code",
      "metadata": {
        "id": "G0dn0rfHe12G",
        "colab_type": "code",
        "colab": {}
      },
      "source": [
        "# Checking that a random list in X_train (previously sentences)\n",
        "# have the same length of 100\n",
        "\n",
        "len(X_train[2])"
      ],
      "execution_count": 0,
      "outputs": []
    },
    {
      "cell_type": "code",
      "metadata": {
        "id": "dY4MspD7C9-h",
        "colab_type": "code",
        "colab": {}
      },
      "source": [
        "# Checking that a random list in X_test (previously sentences)\n",
        "# have the same length of 100\n",
        "len(X_test[5])"
      ],
      "execution_count": 0,
      "outputs": []
    },
    {
      "cell_type": "code",
      "metadata": {
        "id": "vWv7XLejC0db",
        "colab_type": "code",
        "colab": {}
      },
      "source": [
        "# Viewing our X_train\n",
        "X_train"
      ],
      "execution_count": 0,
      "outputs": []
    },
    {
      "cell_type": "code",
      "metadata": {
        "id": "f9Oyu8CAEsUM",
        "colab_type": "code",
        "colab": {}
      },
      "source": [
        "# Viewing our X_test\n",
        "X_test"
      ],
      "execution_count": 0,
      "outputs": []
    },
    {
      "cell_type": "code",
      "metadata": {
        "id": "tZ6zbzqtYegC",
        "colab_type": "code",
        "colab": {}
      },
      "source": [
        "# checking the size of our vocabulary in our corpus\n",
        "# A corpus is a collection of texts\n",
        "\n",
        "vocab_size"
      ],
      "execution_count": 0,
      "outputs": []
    },
    {
      "cell_type": "markdown",
      "metadata": {
        "id": "yTKSfBikDfQZ",
        "colab_type": "text"
      },
      "source": [
        "The output indicates that we have 92547 unique words in the corpus."
      ]
    },
    {
      "cell_type": "code",
      "metadata": {
        "id": "DVKxS9s3YecB",
        "colab_type": "code",
        "colab": {}
      },
      "source": [
        "# Creating a feature matrix\n",
        "# Here we wil use GloVe Embeddings\n",
        "# GloVe stands for Global Vectors for word representation.\n",
        "# It is an unsupervised learning algorithm developed by Stanford for,\n",
        "# Generating word embeddings by aggregating global word-word co-occurrence matrix from a corpus\n",
        "# The resulting\n",
        "\n",
        "embedding_dictionary = dict()\n",
        "\n",
        "glove_file = open('glove.6B.100d.txt', encoding=\"utf8\")\n",
        "\n",
        "\n",
        "for line in glove_file:\n",
        "  record = line.split()\n",
        "  word = record[0]\n",
        "  dimensions = asarray(record [1:], dtype=\"float32\")\n",
        "  embedding_dictionary [word] = dimensions\n",
        "glove_file.close()\n"
      ],
      "execution_count": 0,
      "outputs": []
    },
    {
      "cell_type": "code",
      "metadata": {
        "id": "Ir-_XBKgYeXd",
        "colab_type": "code",
        "colab": {}
      },
      "source": [
        "# Creating an Embedding matrix\n",
        "\n",
        "embedding_matrix  = zeros((vocab_size, 100))\n",
        "for word, index in tokenizer.word_index.items():\n",
        "  embedding_vector = embedding_dictionary.get(word)\n",
        "  if embedding_vector  is not None:\n",
        "    embedding_matrix[index] = embedding_vector"
      ],
      "execution_count": 0,
      "outputs": []
    },
    {
      "cell_type": "code",
      "metadata": {
        "id": "T_U2WMZVYeOp",
        "colab_type": "code",
        "colab": {}
      },
      "source": [
        "embedding_vector"
      ],
      "execution_count": 0,
      "outputs": []
    },
    {
      "cell_type": "code",
      "metadata": {
        "id": "1KKMg8ZhYeK5",
        "colab_type": "code",
        "colab": {}
      },
      "source": [
        "embedding_matrix"
      ],
      "execution_count": 0,
      "outputs": []
    },
    {
      "cell_type": "code",
      "metadata": {
        "id": "B6NCbMokYeGi",
        "colab_type": "code",
        "colab": {}
      },
      "source": [
        "\n",
        "embedding_dictionary"
      ],
      "execution_count": 0,
      "outputs": []
    },
    {
      "cell_type": "markdown",
      "metadata": {
        "id": "xsWO-bIGMtyk",
        "colab_type": "text"
      },
      "source": [
        "# "
      ]
    },
    {
      "cell_type": "markdown",
      "metadata": {
        "id": "mifAe4mp9s-O",
        "colab_type": "text"
      },
      "source": [
        "# Modelling "
      ]
    },
    {
      "cell_type": "markdown",
      "metadata": {
        "id": "_qAyDKtQ-Ggq",
        "colab_type": "text"
      },
      "source": [
        "## Using a Simple Deep Neural Network\n",
        " * Also called a Densely connected neural network.\n",
        " * Its the Basic Neural Network."
      ]
    },
    {
      "cell_type": "code",
      "metadata": {
        "id": "SAy9K2-ZYeBs",
        "colab_type": "code",
        "colab": {}
      },
      "source": [
        "model = Sequential()\n",
        "embedding_layer = Embedding(vocab_size, 100, weights = [embedding_matrix],\n",
        "                            input_length = maxlength, trainable = False)\n",
        "\n",
        "model.add(embedding_layer)\n",
        "\n",
        "model.add(Flatten())\n",
        "\n",
        "model.add(Dense(1, activation = 'sigmoid'))\n"
      ],
      "execution_count": 0,
      "outputs": []
    },
    {
      "cell_type": "code",
      "metadata": {
        "id": "EVBneQHNYd9v",
        "colab_type": "code",
        "colab": {}
      },
      "source": [
        "# \n",
        "\n",
        "model.compile(optimizer = 'adam', loss = 'binary_crossentropy',\n",
        "              metrics = ['acc'])\n",
        "\n",
        "\n",
        "print(model.summary())"
      ],
      "execution_count": 0,
      "outputs": []
    },
    {
      "cell_type": "code",
      "metadata": {
        "id": "CMGJVtL3Yd6D",
        "colab_type": "code",
        "colab": {}
      },
      "source": [
        "output = model.fit(X_train, y_train, batch_size = 128, \n",
        "                   epochs = 20, verbose = 1,\n",
        "                  validation_split = 0.2 )"
      ],
      "execution_count": 0,
      "outputs": []
    },
    {
      "cell_type": "code",
      "metadata": {
        "id": "rhJ7ZjY7Yd2m",
        "colab_type": "code",
        "colab": {}
      },
      "source": [
        "score = model.evaluate(X_test, y_test, verbose = 1)"
      ],
      "execution_count": 0,
      "outputs": []
    },
    {
      "cell_type": "code",
      "metadata": {
        "id": "6ZDyGxSB6ian",
        "colab_type": "code",
        "colab": {}
      },
      "source": [
        ""
      ],
      "execution_count": 0,
      "outputs": []
    },
    {
      "cell_type": "code",
      "metadata": {
        "id": "IExr2PluYdw6",
        "colab_type": "code",
        "colab": {}
      },
      "source": [
        "score[0]"
      ],
      "execution_count": 0,
      "outputs": []
    },
    {
      "cell_type": "code",
      "metadata": {
        "id": "TEO0F28GYdtX",
        "colab_type": "code",
        "colab": {}
      },
      "source": [
        "score[1]"
      ],
      "execution_count": 0,
      "outputs": []
    },
    {
      "cell_type": "code",
      "metadata": {
        "id": "gOcHfFa15tRQ",
        "colab_type": "code",
        "colab": {}
      },
      "source": [
        ""
      ],
      "execution_count": 0,
      "outputs": []
    }
  ]
}